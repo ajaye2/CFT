{
 "cells": [
  {
   "cell_type": "code",
   "execution_count": 1,
   "metadata": {},
   "outputs": [],
   "source": [
    "%load_ext autoreload\n",
    "%autoreload 2"
   ]
  },
  {
   "cell_type": "code",
   "execution_count": 157,
   "metadata": {},
   "outputs": [
    {
     "name": "stdout",
     "output_type": "stream",
     "text": [
      "torch.Size([32, 96, 1])\n",
      "torch.Size([32, 56])\n"
     ]
    }
   ],
   "source": [
    "from torch.utils.data import TensorDataset, DataLoader\n",
    "\n",
    "\n",
    "\n",
    "train_dataset = TensorDataset(torch.from_numpy(train_data).to(torch.float), torch.from_numpy(train_data.reshape(100, -1)[:,40:]).to(torch.float))\n",
    "train_loader = DataLoader(train_dataset, batch_size=min(32, len(train_dataset)), shuffle=True, drop_last=True)\n",
    "train_dataset\n",
    "\n",
    "for batch in train_loader:\n",
    "    print(batch[0].shape)\n",
    "    print(batch[1].shape)\n",
    "    break"
   ]
  },
  {
   "cell_type": "code",
   "execution_count": 192,
   "metadata": {},
   "outputs": [
    {
     "name": "stdout",
     "output_type": "stream",
     "text": [
      "tensor(-7.5586, grad_fn=<MulBackward0>) tensor(-7.5590, grad_fn=<MulBackward0>)\n"
     ]
    },
    {
     "ename": "RuntimeError",
     "evalue": "one of the variables needed for gradient computation has been modified by an inplace operation: [torch.FloatTensor []], which is output 0 of ExpBackward0, is at version 1; expected version 0 instead. Hint: enable anomaly detection to find the operation that failed to compute its gradient, with torch.autograd.set_detect_anomaly(True).",
     "output_type": "error",
     "traceback": [
      "\u001b[0;31m---------------------------------------------------------------------------\u001b[0m",
      "\u001b[0;31mRuntimeError\u001b[0m                              Traceback (most recent call last)",
      "Cell \u001b[0;32mIn [192], line 19\u001b[0m\n\u001b[1;32m     11\u001b[0m \u001b[39m# # (Both train_data and test_data have a shape of n_instances x n_timestamps x n_features)\u001b[39;00m\n\u001b[1;32m     12\u001b[0m \n\u001b[1;32m     13\u001b[0m \u001b[39m# Train a TS2Vec model\u001b[39;00m\n\u001b[1;32m     14\u001b[0m model \u001b[39m=\u001b[39m TS2Vec(\n\u001b[1;32m     15\u001b[0m     input_dims\u001b[39m=\u001b[39m\u001b[39m1\u001b[39m,\n\u001b[1;32m     16\u001b[0m     device\u001b[39m=\u001b[39m\u001b[39m0\u001b[39m,\n\u001b[1;32m     17\u001b[0m     output_dims\u001b[39m=\u001b[39m\u001b[39m320\u001b[39m\n\u001b[1;32m     18\u001b[0m )\n\u001b[0;32m---> 19\u001b[0m loss_log \u001b[39m=\u001b[39m model\u001b[39m.\u001b[39;49mfit(\n\u001b[1;32m     20\u001b[0m     train_data,\n\u001b[1;32m     21\u001b[0m     expert_features\u001b[39m=\u001b[39;49mtrain_data\u001b[39m.\u001b[39;49mreshape(\u001b[39m100\u001b[39;49m, \u001b[39m-\u001b[39;49m\u001b[39m1\u001b[39;49m)[:,\u001b[39m40\u001b[39;49m:],\n\u001b[1;32m     22\u001b[0m     verbose\u001b[39m=\u001b[39;49m\u001b[39mTrue\u001b[39;49;00m\n\u001b[1;32m     23\u001b[0m )\n\u001b[1;32m     25\u001b[0m \u001b[39m# Compute timestamp-level representations for test set\u001b[39;00m\n\u001b[1;32m     26\u001b[0m test_repr_tl \u001b[39m=\u001b[39m model\u001b[39m.\u001b[39mencode(test_data)  \u001b[39m# n_instances x n_timestamps x output_dims\u001b[39;00m\n",
      "File \u001b[0;32m~/Documents/GitHub/CFT/ts2vec.py:187\u001b[0m, in \u001b[0;36mTS2Vec.fit\u001b[0;34m(self, train_data, expert_features, n_epochs, n_iters, verbose, temperature, delta)\u001b[0m\n\u001b[1;32m    184\u001b[0m     \u001b[39mprint\u001b[39m(l1, l2)\n\u001b[1;32m    185\u001b[0m     loss \u001b[39m+\u001b[39m\u001b[39m=\u001b[39m l1 \u001b[39m+\u001b[39m l2\n\u001b[0;32m--> 187\u001b[0m loss\u001b[39m.\u001b[39;49mbackward()\n\u001b[1;32m    188\u001b[0m optimizer\u001b[39m.\u001b[39mstep()\n\u001b[1;32m    190\u001b[0m \u001b[39mself\u001b[39m\u001b[39m.\u001b[39mnet\u001b[39m.\u001b[39mupdate_parameters(\u001b[39mself\u001b[39m\u001b[39m.\u001b[39m_net)\n",
      "File \u001b[0;32m/Library/Frameworks/Python.framework/Versions/3.8/lib/python3.8/site-packages/torch/_tensor.py:396\u001b[0m, in \u001b[0;36mTensor.backward\u001b[0;34m(self, gradient, retain_graph, create_graph, inputs)\u001b[0m\n\u001b[1;32m    387\u001b[0m \u001b[39mif\u001b[39;00m has_torch_function_unary(\u001b[39mself\u001b[39m):\n\u001b[1;32m    388\u001b[0m     \u001b[39mreturn\u001b[39;00m handle_torch_function(\n\u001b[1;32m    389\u001b[0m         Tensor\u001b[39m.\u001b[39mbackward,\n\u001b[1;32m    390\u001b[0m         (\u001b[39mself\u001b[39m,),\n\u001b[0;32m   (...)\u001b[0m\n\u001b[1;32m    394\u001b[0m         create_graph\u001b[39m=\u001b[39mcreate_graph,\n\u001b[1;32m    395\u001b[0m         inputs\u001b[39m=\u001b[39minputs)\n\u001b[0;32m--> 396\u001b[0m torch\u001b[39m.\u001b[39;49mautograd\u001b[39m.\u001b[39;49mbackward(\u001b[39mself\u001b[39;49m, gradient, retain_graph, create_graph, inputs\u001b[39m=\u001b[39;49minputs)\n",
      "File \u001b[0;32m/Library/Frameworks/Python.framework/Versions/3.8/lib/python3.8/site-packages/torch/autograd/__init__.py:173\u001b[0m, in \u001b[0;36mbackward\u001b[0;34m(tensors, grad_tensors, retain_graph, create_graph, grad_variables, inputs)\u001b[0m\n\u001b[1;32m    168\u001b[0m     retain_graph \u001b[39m=\u001b[39m create_graph\n\u001b[1;32m    170\u001b[0m \u001b[39m# The reason we repeat same the comment below is that\u001b[39;00m\n\u001b[1;32m    171\u001b[0m \u001b[39m# some Python versions print out the first line of a multi-line function\u001b[39;00m\n\u001b[1;32m    172\u001b[0m \u001b[39m# calls in the traceback and some print out the last line\u001b[39;00m\n\u001b[0;32m--> 173\u001b[0m Variable\u001b[39m.\u001b[39;49m_execution_engine\u001b[39m.\u001b[39;49mrun_backward(  \u001b[39m# Calls into the C++ engine to run the backward pass\u001b[39;49;00m\n\u001b[1;32m    174\u001b[0m     tensors, grad_tensors_, retain_graph, create_graph, inputs,\n\u001b[1;32m    175\u001b[0m     allow_unreachable\u001b[39m=\u001b[39;49m\u001b[39mTrue\u001b[39;49;00m, accumulate_grad\u001b[39m=\u001b[39;49m\u001b[39mTrue\u001b[39;49;00m)\n",
      "\u001b[0;31mRuntimeError\u001b[0m: one of the variables needed for gradient computation has been modified by an inplace operation: [torch.FloatTensor []], which is output 0 of ExpBackward0, is at version 1; expected version 0 instead. Hint: enable anomaly detection to find the operation that failed to compute its gradient, with torch.autograd.set_detect_anomaly(True)."
     ]
    }
   ],
   "source": [
    "from matplotlib import pyplot as plt\n",
    "from models.losses import *\n",
    "from ts2vec import TS2Vec\n",
    "import pandas as pd\n",
    "import numpy as np\n",
    "import datautils\n",
    "import torch\n",
    "\n",
    "# # Load the ECG200 dataset from UCR archive\n",
    "train_data, train_labels, test_data, test_labels = datautils.load_ECG()\n",
    "# # (Both train_data and test_data have a shape of n_instances x n_timestamps x n_features)\n",
    "\n",
    "# Train a TS2Vec model\n",
    "model = TS2Vec(\n",
    "    input_dims=1,\n",
    "    device=0,\n",
    "    output_dims=320\n",
    ")\n",
    "loss_log = model.fit(\n",
    "    train_data,\n",
    "    expert_features=train_data.reshape(100, -1)[:,40:],\n",
    "    verbose=True\n",
    ")\n",
    "\n",
    "# Compute timestamp-level representations for test set\n",
    "test_repr_tl = model.encode(test_data)  # n_instances x n_timestamps x output_dims\n",
    "\n",
    "# Compute instance-level representations for test set\n",
    "test_repr_il = model.encode(test_data, encoding_window='full_series')  # n_instances x output_dims\n",
    "\n",
    "# Sliding inference for test set\n",
    "test_repr_si = model.encode(\n",
    "    test_data,\n",
    "    casual=True,\n",
    "    sliding_length=1,\n",
    "    sliding_padding=50\n",
    ")  # n_instances x n_timestamps x output_dims\n",
    "# (The timestamp t's representation vector is computed using the observations located in [t-50, t])"
   ]
  },
  {
   "cell_type": "code",
   "execution_count": 202,
   "metadata": {},
   "outputs": [],
   "source": [
    "# pd.DataFrame(test_repr_il)[4].plot()"
   ]
  },
  {
   "cell_type": "code",
   "execution_count": 43,
   "metadata": {},
   "outputs": [],
   "source": [
    "batch_xi     = torch.randn(32, 50)\n",
    "batch_xj     = torch.randn(32, 50)\n",
    "batch_f      = torch.randn(32, 10)\n"
   ]
  },
  {
   "cell_type": "code",
   "execution_count": 203,
   "metadata": {},
   "outputs": [
    {
     "data": {
      "text/plain": [
       "tensor(0.0015)"
      ]
     },
     "execution_count": 203,
     "metadata": {},
     "output_type": "execute_result"
    }
   ],
   "source": [
    "\n",
    "quadratic_contrastive_loss(batch_xi, batch_f)"
   ]
  },
  {
   "cell_type": "code",
   "execution_count": 204,
   "metadata": {},
   "outputs": [
    {
     "data": {
      "text/plain": [
       "tensor(-0.3593)"
      ]
     },
     "execution_count": 204,
     "metadata": {},
     "output_type": "execute_result"
    }
   ],
   "source": [
    "expclr_loss(batch_xi, batch_f)"
   ]
  },
  {
   "cell_type": "code",
   "execution_count": 63,
   "metadata": {},
   "outputs": [
    {
     "name": "stdout",
     "output_type": "stream",
     "text": [
      "(5, 20)\n"
     ]
    }
   ],
   "source": [
    "from tensorflow.keras.layers import LSTM\n",
    "import tensorflow as tf\n",
    "\n",
    "inputs = tf.random.normal([5, 3, 10])\n",
    "lstm = tf.keras.layers.LSTM(20)\n",
    "output = lstm(inputs)\n",
    "print(output.shape)\n"
   ]
  },
  {
   "cell_type": "code",
   "execution_count": 90,
   "metadata": {},
   "outputs": [],
   "source": [
    "rnn = nn.LSTM(10, 20, batch_first=True)\n",
    "input = torch.randn(5, 3, 10)\n",
    "# h0 = torch.randn(2, 3, 20)\n",
    "# c0 = torch.randn(2, 3, 20)\n",
    "output, (hn, cn) = rnn(input)"
   ]
  },
  {
   "cell_type": "code",
   "execution_count": 184,
   "metadata": {},
   "outputs": [
    {
     "data": {
      "text/plain": [
       "torch.Size([5, 20])"
      ]
     },
     "execution_count": 184,
     "metadata": {},
     "output_type": "execute_result"
    }
   ],
   "source": [
    "hn.reshape(hn.shape[1:]).shape"
   ]
  },
  {
   "cell_type": "code",
   "execution_count": 91,
   "metadata": {},
   "outputs": [
    {
     "name": "stdout",
     "output_type": "stream",
     "text": [
      "torch.Size([5, 3, 20])\n",
      "torch.Size([1, 5, 20])\n",
      "torch.Size([1, 5, 20])\n"
     ]
    }
   ],
   "source": [
    "print( output.shape )\n",
    "print( hn.shape )\n",
    "print( cn.shape )"
   ]
  },
  {
   "cell_type": "code",
   "execution_count": 189,
   "metadata": {},
   "outputs": [
    {
     "data": {
      "text/plain": [
       "torch.Size([5, 20])"
      ]
     },
     "execution_count": 189,
     "metadata": {},
     "output_type": "execute_result"
    }
   ],
   "source": [
    "hn.squeeze(0)"
   ]
  },
  {
   "cell_type": "code",
   "execution_count": 181,
   "metadata": {},
   "outputs": [
    {
     "data": {
      "text/plain": [
       "torch.Size([5, 20])"
      ]
     },
     "execution_count": 181,
     "metadata": {},
     "output_type": "execute_result"
    }
   ],
   "source": [
    "output[:,-1:,:].reshape(5, 20).shape"
   ]
  },
  {
   "cell_type": "code",
   "execution_count": 120,
   "metadata": {},
   "outputs": [
    {
     "data": {
      "text/plain": [
       "tensor([[True, True, True, True, True, True, True, True, True, True, True, True,\n",
       "         True, True, True, True, True, True, True, True],\n",
       "        [True, True, True, True, True, True, True, True, True, True, True, True,\n",
       "         True, True, True, True, True, True, True, True],\n",
       "        [True, True, True, True, True, True, True, True, True, True, True, True,\n",
       "         True, True, True, True, True, True, True, True],\n",
       "        [True, True, True, True, True, True, True, True, True, True, True, True,\n",
       "         True, True, True, True, True, True, True, True],\n",
       "        [True, True, True, True, True, True, True, True, True, True, True, True,\n",
       "         True, True, True, True, True, True, True, True]])"
      ]
     },
     "execution_count": 120,
     "metadata": {},
     "output_type": "execute_result"
    }
   ],
   "source": [
    "output[:,-1:,:].reshape(5, 20) == hn.reshape(5, 20)"
   ]
  },
  {
   "cell_type": "code",
   "execution_count": 7,
   "metadata": {},
   "outputs": [],
   "source": [
    "# data, train_slice, valid_slice, test_slice, scaler, pred_lens, n_covariate_cols = datautils.load_forecast_csv(\"ETTh2\")\n",
    "# train_data = data[:, train_slice]\n",
    "        \n",
    "# # Train a TS2Vec model\n",
    "# model = TS2Vec(\n",
    "#     input_dims=1,\n",
    "#     device=0,\n",
    "#     output_dims=320\n",
    "# )\n",
    "# loss_log = model.fit(\n",
    "#     train_data,\n",
    "#     verbose=True\n",
    "# )\n",
    "\n",
    "# # Compute timestamp-level representations for test set\n",
    "# test_repr = model.encode(test_data)  # n_instances x n_timestamps x output_dims\n",
    "\n",
    "# # Compute instance-level representations for test set\n",
    "# test_repr = model.encode(test_data, encoding_window='full_series')  # n_instances x output_dims\n",
    "\n",
    "# # Sliding inference for test set\n",
    "# test_repr = model.encode(\n",
    "#     test_data,\n",
    "#     casual=True,\n",
    "#     sliding_length=1,\n",
    "#     sliding_padding=50\n",
    "# )  # n_instances x n_timestamps x output_dims\n",
    "# # (The timestamp t's representation vector is computed using the observations located in [t-50, t])"
   ]
  },
  {
   "cell_type": "code",
   "execution_count": null,
   "metadata": {},
   "outputs": [],
   "source": []
  }
 ],
 "metadata": {
  "kernelspec": {
   "display_name": "Python 3.8.3 64-bit",
   "language": "python",
   "name": "python3"
  },
  "language_info": {
   "codemirror_mode": {
    "name": "ipython",
    "version": 3
   },
   "file_extension": ".py",
   "mimetype": "text/x-python",
   "name": "python",
   "nbconvert_exporter": "python",
   "pygments_lexer": "ipython3",
   "version": "3.8.3"
  },
  "orig_nbformat": 4,
  "vscode": {
   "interpreter": {
    "hash": "aee8b7b246df8f9039afb4144a1f6fd8d2ca17a180786b69acc140d282b71a49"
   }
  }
 },
 "nbformat": 4,
 "nbformat_minor": 2
}
