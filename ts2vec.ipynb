{
 "cells": [
  {
   "cell_type": "markdown",
   "metadata": {},
   "source": []
  },
  {
   "cell_type": "code",
   "execution_count": 219,
   "metadata": {},
   "outputs": [],
   "source": [
    "# %pip show pip\n",
    "# %pip install -U scikit-learn"
   ]
  },
  {
   "cell_type": "code",
   "execution_count": 5,
   "metadata": {},
   "outputs": [
    {
     "name": "stdout",
     "output_type": "stream",
     "text": [
      "The autoreload extension is already loaded. To reload it, use:\n",
      "  %reload_ext autoreload\n"
     ]
    }
   ],
   "source": [
    "%load_ext autoreload\n",
    "%autoreload 2\n",
    "\n",
    "from matplotlib import pyplot as plt\n",
    "from utils import standardize\n",
    "from datetime import datetime\n",
    "from models.losses import *\n",
    "from ts2vec import TS2Vec\n",
    "from pathlib import Path\n",
    "from tqdm import tqdm\n",
    "from os import walk\n",
    "import pandas as pd\n",
    "import numpy as np\n",
    "import datautils\n",
    "import torch\n",
    "import json\n",
    "\n",
    "\n",
    "\n"
   ]
  },
  {
   "cell_type": "code",
   "execution_count": 6,
   "metadata": {},
   "outputs": [],
   "source": [
    "# TODO: Challenges to solve with stock data\n",
    "    # Have to deal with weekends - time series not continuous (maybe include time features like hour and daily)\n",
    "    # Habe to deal with hours between stock opened and stock closed"
   ]
  },
  {
   "cell_type": "code",
   "execution_count": 2,
   "metadata": {},
   "outputs": [],
   "source": [
    "mypath      = \"/Users/abuj/Documents/GitHub/CFT/datasets/STOCKS/hour/\"\n",
    "ffd_path    = \"/Users/abuj/Documents/GitHub/CFT/datasets/META_FEATURES/FFD/hour/\"\n",
    "cpd_path    = \"/Users/abuj/Documents/GitHub/CFT/datasets/META_FEATURES/CPD/hour/\"\n",
    "\n",
    "filenames   = next(walk(mypath), (None, None, []))[2]  \n",
    "\n",
    "cols_to_perform_ffd = ['open', 'high', 'low', 'close', 'vwap']\n"
   ]
  },
  {
   "cell_type": "code",
   "execution_count": 125,
   "metadata": {},
   "outputs": [
    {
     "name": "stderr",
     "output_type": "stream",
     "text": [
      "100%|██████████| 7/7 [00:08<00:00,  1.18s/it]\n"
     ]
    }
   ],
   "source": [
    "\n",
    "data_dict = {}\n",
    "\n",
    "LOOKBACK_WINDOW                 = 7      # Hyper parameter\n",
    "STANDARIZE_LOOKBACK_WINDOW      = 7 * 3  # Hyper parameter\n",
    "\n",
    "for file in tqdm(filenames[330:]):\n",
    "    df                  = pd.read_csv(mypath + file).set_index('timestamp')[cols_to_perform_ffd]\n",
    "    df_ffd              = pd.read_csv(ffd_path + file).set_index('timestamp')\n",
    "\n",
    "    df                  = standardize(df,     look_back=STANDARIZE_LOOKBACK_WINDOW)\n",
    "    df_ffd              = standardize(df_ffd, look_back=STANDARIZE_LOOKBACK_WINDOW)\n",
    "\n",
    "    idx                 = df_ffd.index.intersection(df.index)\n",
    "    df, df_ffd          = df.loc[idx], df_ffd.loc[idx]\n",
    "\n",
    "\n",
    "    X_data_array        = []\n",
    "    EXP_FEAT_data_array = []\n",
    "\n",
    "    for i in range(LOOKBACK_WINDOW, len(df)+1):\n",
    "        X_data_array.append( df.iloc[i - LOOKBACK_WINDOW:i].values )\n",
    "        EXP_FEAT_data_array.append( df_ffd.iloc[i-1].values ) # Without minus one, the exp features lead X_DATA by one tiemstamp\n",
    "        assert df_ffd.iloc[i-1].name  == df.iloc[i - LOOKBACK_WINDOW:i].iloc[-1].name \n",
    "\n",
    "    X_data_array        = np.array( X_data_array )\n",
    "    EXP_FEAT_data_array = np.array( EXP_FEAT_data_array )\n",
    "\n",
    "    data_dict[file[:-4]]                  = {}\n",
    "    data_dict[file[:-4]]['X_DATA']        = X_data_array\n",
    "    data_dict[file[:-4]]['EXP_FEAT_DATA'] = EXP_FEAT_data_array\n",
    "    # data_dict[file[:-4]]['Y_DATA']        = EXP_FEAT_data_array #TODO: generate labels\n",
    "    # print(file, X_data_array.shape, EXP_FEAT_data_array.shape)\n"
   ]
  },
  {
   "cell_type": "code",
   "execution_count": 167,
   "metadata": {},
   "outputs": [
    {
     "name": "stdout",
     "output_type": "stream",
     "text": [
      "(108030, 20, 5) (108030, 10)\n",
      "(27012, 20, 5) (27012, 10)\n"
     ]
    }
   ],
   "source": [
    "pct_train          = 0.8\n",
    "train_data         = np.concatenate( [data_dict[x]['X_DATA'][:int(pct_train*len(data_dict[x]['X_DATA']))] for x in data_dict.keys()])\n",
    "exp_train_data     = np.concatenate( [data_dict[x]['EXP_FEAT_DATA'][:int(pct_train*len(data_dict[x]['X_DATA']))] for x in data_dict.keys()])\n",
    "# train_labels       = np.concatenate( [data_dict[x]['Y_DATA'][:int(pct_train*len(data_dict[x]['X_DATA']))] for x in data_dict.keys()])\n",
    "assert train_data.shape[0] == exp_train_data.shape[0] \n",
    "print(train_data.shape, exp_train_data.shape)\n",
    "\n",
    "\n",
    "test_data         = np.concatenate( [data_dict[x]['X_DATA'][int(pct_train*len(data_dict[x]['X_DATA'])):] for x in data_dict.keys()])\n",
    "exp_test_data     = np.concatenate( [data_dict[x]['EXP_FEAT_DATA'][int(pct_train*len(data_dict[x]['X_DATA'])):] for x in data_dict.keys()])\n",
    "# test_labels       = np.concatenate( [data_dict[x]['Y_DATA'][:int(pct_train*len(data_dict[x]['X_DATA']))] for x in data_dict.keys()])\n",
    "assert test_data.shape[0] == exp_test_data.shape[0] \n",
    "print(test_data.shape, exp_test_data.shape)\n",
    "# # (Both train_data and test_data have a shape of n_instances x n_timestamps x n_features)\n"
   ]
  },
  {
   "cell_type": "code",
   "execution_count": 168,
   "metadata": {},
   "outputs": [
    {
     "ename": "KeyboardInterrupt",
     "evalue": "",
     "output_type": "error",
     "traceback": [
      "\u001b[0;31m---------------------------------------------------------------------------\u001b[0m",
      "\u001b[0;31mKeyboardInterrupt\u001b[0m                         Traceback (most recent call last)",
      "Cell \u001b[0;32mIn [168], line 20\u001b[0m\n\u001b[1;32m     17\u001b[0m test_repr_il \u001b[39m=\u001b[39m model\u001b[39m.\u001b[39mencode(test_data, encoding_window\u001b[39m=\u001b[39m\u001b[39m'\u001b[39m\u001b[39mfull_series\u001b[39m\u001b[39m'\u001b[39m)  \u001b[39m# n_instances x output_dims\u001b[39;00m\n\u001b[1;32m     19\u001b[0m \u001b[39m# Sliding inference for test set\u001b[39;00m\n\u001b[0;32m---> 20\u001b[0m test_repr_si \u001b[39m=\u001b[39m model\u001b[39m.\u001b[39;49mencode(\n\u001b[1;32m     21\u001b[0m     test_data,\n\u001b[1;32m     22\u001b[0m     casual\u001b[39m=\u001b[39;49m\u001b[39mTrue\u001b[39;49;00m,\n\u001b[1;32m     23\u001b[0m     sliding_length\u001b[39m=\u001b[39;49m\u001b[39m1\u001b[39;49m,\n\u001b[1;32m     24\u001b[0m     sliding_padding\u001b[39m=\u001b[39;49m\u001b[39m50\u001b[39;49m\n\u001b[1;32m     25\u001b[0m )  \u001b[39m# n_instances x n_timestamps x output_dims\u001b[39;00m\n\u001b[1;32m     26\u001b[0m \u001b[39m# (The timestamp t's representation vector is computed using the observations located in [t-50, t])\u001b[39;00m\n",
      "File \u001b[0;32m~/Documents/GitHub/CFT/ts2vec.py:324\u001b[0m, in \u001b[0;36mTS2Vec.encode\u001b[0;34m(self, data, mask, encoding_window, casual, sliding_length, sliding_padding, batch_size)\u001b[0m\n\u001b[1;32m    322\u001b[0m         calc_buffer_l \u001b[39m+\u001b[39m\u001b[39m=\u001b[39m n_samples\n\u001b[1;32m    323\u001b[0m     \u001b[39melse\u001b[39;00m:\n\u001b[0;32m--> 324\u001b[0m         out \u001b[39m=\u001b[39m \u001b[39mself\u001b[39;49m\u001b[39m.\u001b[39;49m_eval_with_pooling(\n\u001b[1;32m    325\u001b[0m             x_sliding,\n\u001b[1;32m    326\u001b[0m             mask,\n\u001b[1;32m    327\u001b[0m             slicing\u001b[39m=\u001b[39;49m\u001b[39mslice\u001b[39;49m(sliding_padding, sliding_padding\u001b[39m+\u001b[39;49msliding_length),\n\u001b[1;32m    328\u001b[0m             encoding_window\u001b[39m=\u001b[39;49mencoding_window\n\u001b[1;32m    329\u001b[0m         )\n\u001b[1;32m    330\u001b[0m         reprs\u001b[39m.\u001b[39mappend(out)\n\u001b[1;32m    332\u001b[0m \u001b[39mif\u001b[39;00m n_samples \u001b[39m<\u001b[39m batch_size:\n",
      "File \u001b[0;32m~/Documents/GitHub/CFT/ts2vec.py:222\u001b[0m, in \u001b[0;36mTS2Vec._eval_with_pooling\u001b[0;34m(self, x, mask, slicing, encoding_window)\u001b[0m\n\u001b[1;32m    221\u001b[0m \u001b[39mdef\u001b[39;00m \u001b[39m_eval_with_pooling\u001b[39m(\u001b[39mself\u001b[39m, x, mask\u001b[39m=\u001b[39m\u001b[39mNone\u001b[39;00m, slicing\u001b[39m=\u001b[39m\u001b[39mNone\u001b[39;00m, encoding_window\u001b[39m=\u001b[39m\u001b[39mNone\u001b[39;00m):\n\u001b[0;32m--> 222\u001b[0m     out \u001b[39m=\u001b[39m \u001b[39mself\u001b[39;49m\u001b[39m.\u001b[39;49mnet(x\u001b[39m.\u001b[39;49mto(\u001b[39mself\u001b[39;49m\u001b[39m.\u001b[39;49mdevice, non_blocking\u001b[39m=\u001b[39;49m\u001b[39mTrue\u001b[39;49;00m), mask)\n\u001b[1;32m    223\u001b[0m     \u001b[39mif\u001b[39;00m encoding_window \u001b[39m==\u001b[39m \u001b[39m'\u001b[39m\u001b[39mfull_series\u001b[39m\u001b[39m'\u001b[39m:\n\u001b[1;32m    224\u001b[0m         \u001b[39mif\u001b[39;00m slicing \u001b[39mis\u001b[39;00m \u001b[39mnot\u001b[39;00m \u001b[39mNone\u001b[39;00m:\n",
      "File \u001b[0;32m~/Documents/GitHub/CFT/env/lib/python3.9/site-packages/torch/nn/modules/module.py:1190\u001b[0m, in \u001b[0;36mModule._call_impl\u001b[0;34m(self, *input, **kwargs)\u001b[0m\n\u001b[1;32m   1186\u001b[0m \u001b[39m# If we don't have any hooks, we want to skip the rest of the logic in\u001b[39;00m\n\u001b[1;32m   1187\u001b[0m \u001b[39m# this function, and just call forward.\u001b[39;00m\n\u001b[1;32m   1188\u001b[0m \u001b[39mif\u001b[39;00m \u001b[39mnot\u001b[39;00m (\u001b[39mself\u001b[39m\u001b[39m.\u001b[39m_backward_hooks \u001b[39mor\u001b[39;00m \u001b[39mself\u001b[39m\u001b[39m.\u001b[39m_forward_hooks \u001b[39mor\u001b[39;00m \u001b[39mself\u001b[39m\u001b[39m.\u001b[39m_forward_pre_hooks \u001b[39mor\u001b[39;00m _global_backward_hooks\n\u001b[1;32m   1189\u001b[0m         \u001b[39mor\u001b[39;00m _global_forward_hooks \u001b[39mor\u001b[39;00m _global_forward_pre_hooks):\n\u001b[0;32m-> 1190\u001b[0m     \u001b[39mreturn\u001b[39;00m forward_call(\u001b[39m*\u001b[39;49m\u001b[39minput\u001b[39;49m, \u001b[39m*\u001b[39;49m\u001b[39m*\u001b[39;49mkwargs)\n\u001b[1;32m   1191\u001b[0m \u001b[39m# Do not call functions when jit is used\u001b[39;00m\n\u001b[1;32m   1192\u001b[0m full_backward_hooks, non_full_backward_hooks \u001b[39m=\u001b[39m [], []\n",
      "File \u001b[0;32m~/Documents/GitHub/CFT/env/lib/python3.9/site-packages/torch/optim/swa_utils.py:116\u001b[0m, in \u001b[0;36mAveragedModel.forward\u001b[0;34m(self, *args, **kwargs)\u001b[0m\n\u001b[1;32m    115\u001b[0m \u001b[39mdef\u001b[39;00m \u001b[39mforward\u001b[39m(\u001b[39mself\u001b[39m, \u001b[39m*\u001b[39margs, \u001b[39m*\u001b[39m\u001b[39m*\u001b[39mkwargs):\n\u001b[0;32m--> 116\u001b[0m     \u001b[39mreturn\u001b[39;00m \u001b[39mself\u001b[39;49m\u001b[39m.\u001b[39;49mmodule(\u001b[39m*\u001b[39;49margs, \u001b[39m*\u001b[39;49m\u001b[39m*\u001b[39;49mkwargs)\n",
      "File \u001b[0;32m~/Documents/GitHub/CFT/env/lib/python3.9/site-packages/torch/nn/modules/module.py:1190\u001b[0m, in \u001b[0;36mModule._call_impl\u001b[0;34m(self, *input, **kwargs)\u001b[0m\n\u001b[1;32m   1186\u001b[0m \u001b[39m# If we don't have any hooks, we want to skip the rest of the logic in\u001b[39;00m\n\u001b[1;32m   1187\u001b[0m \u001b[39m# this function, and just call forward.\u001b[39;00m\n\u001b[1;32m   1188\u001b[0m \u001b[39mif\u001b[39;00m \u001b[39mnot\u001b[39;00m (\u001b[39mself\u001b[39m\u001b[39m.\u001b[39m_backward_hooks \u001b[39mor\u001b[39;00m \u001b[39mself\u001b[39m\u001b[39m.\u001b[39m_forward_hooks \u001b[39mor\u001b[39;00m \u001b[39mself\u001b[39m\u001b[39m.\u001b[39m_forward_pre_hooks \u001b[39mor\u001b[39;00m _global_backward_hooks\n\u001b[1;32m   1189\u001b[0m         \u001b[39mor\u001b[39;00m _global_forward_hooks \u001b[39mor\u001b[39;00m _global_forward_pre_hooks):\n\u001b[0;32m-> 1190\u001b[0m     \u001b[39mreturn\u001b[39;00m forward_call(\u001b[39m*\u001b[39;49m\u001b[39minput\u001b[39;49m, \u001b[39m*\u001b[39;49m\u001b[39m*\u001b[39;49mkwargs)\n\u001b[1;32m   1191\u001b[0m \u001b[39m# Do not call functions when jit is used\u001b[39;00m\n\u001b[1;32m   1192\u001b[0m full_backward_hooks, non_full_backward_hooks \u001b[39m=\u001b[39m [], []\n",
      "File \u001b[0;32m~/Documents/GitHub/CFT/models/encoder.py:70\u001b[0m, in \u001b[0;36mTSEncoder.forward\u001b[0;34m(self, x, mask)\u001b[0m\n\u001b[1;32m     68\u001b[0m \u001b[39m# conv encoder\u001b[39;00m\n\u001b[1;32m     69\u001b[0m x \u001b[39m=\u001b[39m x\u001b[39m.\u001b[39mtranspose(\u001b[39m1\u001b[39m, \u001b[39m2\u001b[39m)  \u001b[39m# B x Ch x T\u001b[39;00m\n\u001b[0;32m---> 70\u001b[0m x \u001b[39m=\u001b[39m \u001b[39mself\u001b[39m\u001b[39m.\u001b[39mrepr_dropout(\u001b[39mself\u001b[39;49m\u001b[39m.\u001b[39;49mfeature_extractor(x))  \u001b[39m# B x Co x T\u001b[39;00m\n\u001b[1;32m     71\u001b[0m x \u001b[39m=\u001b[39m x\u001b[39m.\u001b[39mtranspose(\u001b[39m1\u001b[39m, \u001b[39m2\u001b[39m)  \u001b[39m# B x T x Co\u001b[39;00m\n\u001b[1;32m     73\u001b[0m \u001b[39mreturn\u001b[39;00m x\n",
      "File \u001b[0;32m~/Documents/GitHub/CFT/env/lib/python3.9/site-packages/torch/nn/modules/module.py:1190\u001b[0m, in \u001b[0;36mModule._call_impl\u001b[0;34m(self, *input, **kwargs)\u001b[0m\n\u001b[1;32m   1186\u001b[0m \u001b[39m# If we don't have any hooks, we want to skip the rest of the logic in\u001b[39;00m\n\u001b[1;32m   1187\u001b[0m \u001b[39m# this function, and just call forward.\u001b[39;00m\n\u001b[1;32m   1188\u001b[0m \u001b[39mif\u001b[39;00m \u001b[39mnot\u001b[39;00m (\u001b[39mself\u001b[39m\u001b[39m.\u001b[39m_backward_hooks \u001b[39mor\u001b[39;00m \u001b[39mself\u001b[39m\u001b[39m.\u001b[39m_forward_hooks \u001b[39mor\u001b[39;00m \u001b[39mself\u001b[39m\u001b[39m.\u001b[39m_forward_pre_hooks \u001b[39mor\u001b[39;00m _global_backward_hooks\n\u001b[1;32m   1189\u001b[0m         \u001b[39mor\u001b[39;00m _global_forward_hooks \u001b[39mor\u001b[39;00m _global_forward_pre_hooks):\n\u001b[0;32m-> 1190\u001b[0m     \u001b[39mreturn\u001b[39;00m forward_call(\u001b[39m*\u001b[39;49m\u001b[39minput\u001b[39;49m, \u001b[39m*\u001b[39;49m\u001b[39m*\u001b[39;49mkwargs)\n\u001b[1;32m   1191\u001b[0m \u001b[39m# Do not call functions when jit is used\u001b[39;00m\n\u001b[1;32m   1192\u001b[0m full_backward_hooks, non_full_backward_hooks \u001b[39m=\u001b[39m [], []\n",
      "File \u001b[0;32m~/Documents/GitHub/CFT/models/dilated_conv.py:55\u001b[0m, in \u001b[0;36mDilatedConvEncoder.forward\u001b[0;34m(self, x)\u001b[0m\n\u001b[1;32m     54\u001b[0m \u001b[39mdef\u001b[39;00m \u001b[39mforward\u001b[39m(\u001b[39mself\u001b[39m, x):\n\u001b[0;32m---> 55\u001b[0m     \u001b[39mreturn\u001b[39;00m \u001b[39mself\u001b[39;49m\u001b[39m.\u001b[39;49mnet(x)\n",
      "File \u001b[0;32m~/Documents/GitHub/CFT/env/lib/python3.9/site-packages/torch/nn/modules/module.py:1190\u001b[0m, in \u001b[0;36mModule._call_impl\u001b[0;34m(self, *input, **kwargs)\u001b[0m\n\u001b[1;32m   1186\u001b[0m \u001b[39m# If we don't have any hooks, we want to skip the rest of the logic in\u001b[39;00m\n\u001b[1;32m   1187\u001b[0m \u001b[39m# this function, and just call forward.\u001b[39;00m\n\u001b[1;32m   1188\u001b[0m \u001b[39mif\u001b[39;00m \u001b[39mnot\u001b[39;00m (\u001b[39mself\u001b[39m\u001b[39m.\u001b[39m_backward_hooks \u001b[39mor\u001b[39;00m \u001b[39mself\u001b[39m\u001b[39m.\u001b[39m_forward_hooks \u001b[39mor\u001b[39;00m \u001b[39mself\u001b[39m\u001b[39m.\u001b[39m_forward_pre_hooks \u001b[39mor\u001b[39;00m _global_backward_hooks\n\u001b[1;32m   1189\u001b[0m         \u001b[39mor\u001b[39;00m _global_forward_hooks \u001b[39mor\u001b[39;00m _global_forward_pre_hooks):\n\u001b[0;32m-> 1190\u001b[0m     \u001b[39mreturn\u001b[39;00m forward_call(\u001b[39m*\u001b[39;49m\u001b[39minput\u001b[39;49m, \u001b[39m*\u001b[39;49m\u001b[39m*\u001b[39;49mkwargs)\n\u001b[1;32m   1191\u001b[0m \u001b[39m# Do not call functions when jit is used\u001b[39;00m\n\u001b[1;32m   1192\u001b[0m full_backward_hooks, non_full_backward_hooks \u001b[39m=\u001b[39m [], []\n",
      "File \u001b[0;32m~/Documents/GitHub/CFT/env/lib/python3.9/site-packages/torch/nn/modules/container.py:204\u001b[0m, in \u001b[0;36mSequential.forward\u001b[0;34m(self, input)\u001b[0m\n\u001b[1;32m    202\u001b[0m \u001b[39mdef\u001b[39;00m \u001b[39mforward\u001b[39m(\u001b[39mself\u001b[39m, \u001b[39minput\u001b[39m):\n\u001b[1;32m    203\u001b[0m     \u001b[39mfor\u001b[39;00m module \u001b[39min\u001b[39;00m \u001b[39mself\u001b[39m:\n\u001b[0;32m--> 204\u001b[0m         \u001b[39minput\u001b[39m \u001b[39m=\u001b[39m module(\u001b[39minput\u001b[39;49m)\n\u001b[1;32m    205\u001b[0m     \u001b[39mreturn\u001b[39;00m \u001b[39minput\u001b[39m\n",
      "File \u001b[0;32m~/Documents/GitHub/CFT/env/lib/python3.9/site-packages/torch/nn/modules/module.py:1190\u001b[0m, in \u001b[0;36mModule._call_impl\u001b[0;34m(self, *input, **kwargs)\u001b[0m\n\u001b[1;32m   1186\u001b[0m \u001b[39m# If we don't have any hooks, we want to skip the rest of the logic in\u001b[39;00m\n\u001b[1;32m   1187\u001b[0m \u001b[39m# this function, and just call forward.\u001b[39;00m\n\u001b[1;32m   1188\u001b[0m \u001b[39mif\u001b[39;00m \u001b[39mnot\u001b[39;00m (\u001b[39mself\u001b[39m\u001b[39m.\u001b[39m_backward_hooks \u001b[39mor\u001b[39;00m \u001b[39mself\u001b[39m\u001b[39m.\u001b[39m_forward_hooks \u001b[39mor\u001b[39;00m \u001b[39mself\u001b[39m\u001b[39m.\u001b[39m_forward_pre_hooks \u001b[39mor\u001b[39;00m _global_backward_hooks\n\u001b[1;32m   1189\u001b[0m         \u001b[39mor\u001b[39;00m _global_forward_hooks \u001b[39mor\u001b[39;00m _global_forward_pre_hooks):\n\u001b[0;32m-> 1190\u001b[0m     \u001b[39mreturn\u001b[39;00m forward_call(\u001b[39m*\u001b[39;49m\u001b[39minput\u001b[39;49m, \u001b[39m*\u001b[39;49m\u001b[39m*\u001b[39;49mkwargs)\n\u001b[1;32m   1191\u001b[0m \u001b[39m# Do not call functions when jit is used\u001b[39;00m\n\u001b[1;32m   1192\u001b[0m full_backward_hooks, non_full_backward_hooks \u001b[39m=\u001b[39m [], []\n",
      "File \u001b[0;32m~/Documents/GitHub/CFT/models/dilated_conv.py:34\u001b[0m, in \u001b[0;36mConvBlock.forward\u001b[0;34m(self, x)\u001b[0m\n\u001b[1;32m     32\u001b[0m \u001b[39mdef\u001b[39;00m \u001b[39mforward\u001b[39m(\u001b[39mself\u001b[39m, x):\n\u001b[1;32m     33\u001b[0m     residual \u001b[39m=\u001b[39m x \u001b[39mif\u001b[39;00m \u001b[39mself\u001b[39m\u001b[39m.\u001b[39mprojector \u001b[39mis\u001b[39;00m \u001b[39mNone\u001b[39;00m \u001b[39melse\u001b[39;00m \u001b[39mself\u001b[39m\u001b[39m.\u001b[39mprojector(x)\n\u001b[0;32m---> 34\u001b[0m     x \u001b[39m=\u001b[39m F\u001b[39m.\u001b[39;49mgelu(x)\n\u001b[1;32m     35\u001b[0m     x \u001b[39m=\u001b[39m \u001b[39mself\u001b[39m\u001b[39m.\u001b[39mconv1(x)\n\u001b[1;32m     36\u001b[0m     x \u001b[39m=\u001b[39m F\u001b[39m.\u001b[39mgelu(x)\n",
      "\u001b[0;31mKeyboardInterrupt\u001b[0m: "
     ]
    }
   ],
   "source": [
    "\n",
    "\n",
    "\n",
    "# Train a TS2Vec model\n",
    "model = TS2Vec(\n",
    "    input_dims=train_data.shape[-1],\n",
    "    device=0,\n",
    "    output_dims=320\n",
    ")\n",
    "loss_log = model.fit(\n",
    "    train_data,\n",
    "    expert_features=exp_train_data, # train_data.reshape(100, -1)[:,40:],\n",
    "    verbose=True\n",
    ")\n",
    "\n",
    "# Compute timestamp-level representations for test set\n",
    "test_repr_tl = model.encode(test_data)  # n_instances x n_timestamps x output_dims\n",
    "\n",
    "# Compute instance-level representations for test set\n",
    "test_repr_il = model.encode(test_data, encoding_window='full_series')  # n_instances x output_dims\n",
    "\n",
    "# Sliding inference for test set\n",
    "test_repr_si = model.encode(\n",
    "    test_data,\n",
    "    casual=True,\n",
    "    sliding_length=1,\n",
    "    sliding_padding=50\n",
    ")  # n_instances x n_timestamps x output_dims\n",
    "# (The timestamp t's representation vector is computed using the observations located in [t-50, t])"
   ]
  },
  {
   "cell_type": "code",
   "execution_count": null,
   "metadata": {},
   "outputs": [],
   "source": []
  },
  {
   "cell_type": "code",
   "execution_count": null,
   "metadata": {},
   "outputs": [],
   "source": []
  },
  {
   "cell_type": "code",
   "execution_count": null,
   "metadata": {},
   "outputs": [],
   "source": []
  },
  {
   "cell_type": "code",
   "execution_count": null,
   "metadata": {},
   "outputs": [],
   "source": []
  },
  {
   "cell_type": "code",
   "execution_count": null,
   "metadata": {},
   "outputs": [],
   "source": []
  },
  {
   "cell_type": "code",
   "execution_count": 170,
   "metadata": {},
   "outputs": [
    {
     "name": "stdout",
     "output_type": "stream",
     "text": [
      "Epoch #0: loss=4.902282357215881\n",
      "Epoch #1: loss=3.4583623011906943\n",
      "Epoch #2: loss=3.439666191736857\n",
      "Epoch #3: loss=3.2492870489756265\n"
     ]
    },
    {
     "ename": "KeyboardInterrupt",
     "evalue": "",
     "output_type": "error",
     "traceback": [
      "\u001b[0;31m---------------------------------------------------------------------------\u001b[0m",
      "\u001b[0;31mKeyboardInterrupt\u001b[0m                         Traceback (most recent call last)",
      "Cell \u001b[0;32mIn [170], line 15\u001b[0m\n\u001b[1;32m      9\u001b[0m \u001b[39m# Train a TS2Vec model\u001b[39;00m\n\u001b[1;32m     10\u001b[0m model \u001b[39m=\u001b[39m TS2Vec(\n\u001b[1;32m     11\u001b[0m     input_dims\u001b[39m=\u001b[39m\u001b[39m1\u001b[39m,\n\u001b[1;32m     12\u001b[0m     device\u001b[39m=\u001b[39m\u001b[39m0\u001b[39m,\n\u001b[1;32m     13\u001b[0m     output_dims\u001b[39m=\u001b[39m\u001b[39m320\u001b[39m\n\u001b[1;32m     14\u001b[0m )\n\u001b[0;32m---> 15\u001b[0m loss_log \u001b[39m=\u001b[39m model\u001b[39m.\u001b[39;49mfit(\n\u001b[1;32m     16\u001b[0m     train_data,\n\u001b[1;32m     17\u001b[0m     expert_features\u001b[39m=\u001b[39;49mexp_feat, \u001b[39m#train_data.reshape(100, -1)[:,40:],\u001b[39;49;00m\n\u001b[1;32m     18\u001b[0m     verbose\u001b[39m=\u001b[39;49m\u001b[39mTrue\u001b[39;49;00m\n\u001b[1;32m     19\u001b[0m )\n\u001b[1;32m     21\u001b[0m \u001b[39m# Compute timestamp-level representations for test set\u001b[39;00m\n\u001b[1;32m     22\u001b[0m test_repr_tl \u001b[39m=\u001b[39m model\u001b[39m.\u001b[39mencode(test_data)  \u001b[39m# n_instances x n_timestamps x output_dims\u001b[39;00m\n",
      "File \u001b[0;32m~/Documents/GitHub/CFT/ts2vec.py:192\u001b[0m, in \u001b[0;36mTS2Vec.fit\u001b[0;34m(self, train_data, expert_features, n_epochs, n_iters, verbose, temperature, delta)\u001b[0m\n\u001b[1;32m    189\u001b[0m     \u001b[39m# print(l1, l2)\u001b[39;00m\n\u001b[1;32m    190\u001b[0m     loss \u001b[39m+\u001b[39m\u001b[39m=\u001b[39m l1 \u001b[39m+\u001b[39m l2\n\u001b[0;32m--> 192\u001b[0m loss\u001b[39m.\u001b[39;49mbackward()\n\u001b[1;32m    193\u001b[0m optimizer\u001b[39m.\u001b[39mstep()\n\u001b[1;32m    195\u001b[0m \u001b[39mself\u001b[39m\u001b[39m.\u001b[39mnet\u001b[39m.\u001b[39mupdate_parameters(\u001b[39mself\u001b[39m\u001b[39m.\u001b[39m_net)\n",
      "File \u001b[0;32m~/Documents/GitHub/CFT/env/lib/python3.9/site-packages/torch/_tensor.py:487\u001b[0m, in \u001b[0;36mTensor.backward\u001b[0;34m(self, gradient, retain_graph, create_graph, inputs)\u001b[0m\n\u001b[1;32m    477\u001b[0m \u001b[39mif\u001b[39;00m has_torch_function_unary(\u001b[39mself\u001b[39m):\n\u001b[1;32m    478\u001b[0m     \u001b[39mreturn\u001b[39;00m handle_torch_function(\n\u001b[1;32m    479\u001b[0m         Tensor\u001b[39m.\u001b[39mbackward,\n\u001b[1;32m    480\u001b[0m         (\u001b[39mself\u001b[39m,),\n\u001b[0;32m   (...)\u001b[0m\n\u001b[1;32m    485\u001b[0m         inputs\u001b[39m=\u001b[39minputs,\n\u001b[1;32m    486\u001b[0m     )\n\u001b[0;32m--> 487\u001b[0m torch\u001b[39m.\u001b[39;49mautograd\u001b[39m.\u001b[39;49mbackward(\n\u001b[1;32m    488\u001b[0m     \u001b[39mself\u001b[39;49m, gradient, retain_graph, create_graph, inputs\u001b[39m=\u001b[39;49minputs\n\u001b[1;32m    489\u001b[0m )\n",
      "File \u001b[0;32m~/Documents/GitHub/CFT/env/lib/python3.9/site-packages/torch/autograd/__init__.py:197\u001b[0m, in \u001b[0;36mbackward\u001b[0;34m(tensors, grad_tensors, retain_graph, create_graph, grad_variables, inputs)\u001b[0m\n\u001b[1;32m    192\u001b[0m     retain_graph \u001b[39m=\u001b[39m create_graph\n\u001b[1;32m    194\u001b[0m \u001b[39m# The reason we repeat same the comment below is that\u001b[39;00m\n\u001b[1;32m    195\u001b[0m \u001b[39m# some Python versions print out the first line of a multi-line function\u001b[39;00m\n\u001b[1;32m    196\u001b[0m \u001b[39m# calls in the traceback and some print out the last line\u001b[39;00m\n\u001b[0;32m--> 197\u001b[0m Variable\u001b[39m.\u001b[39;49m_execution_engine\u001b[39m.\u001b[39;49mrun_backward(  \u001b[39m# Calls into the C++ engine to run the backward pass\u001b[39;49;00m\n\u001b[1;32m    198\u001b[0m     tensors, grad_tensors_, retain_graph, create_graph, inputs,\n\u001b[1;32m    199\u001b[0m     allow_unreachable\u001b[39m=\u001b[39;49m\u001b[39mTrue\u001b[39;49;00m, accumulate_grad\u001b[39m=\u001b[39;49m\u001b[39mTrue\u001b[39;49;00m)\n",
      "\u001b[0;31mKeyboardInterrupt\u001b[0m: "
     ]
    }
   ],
   "source": [
    "\n",
    "\n",
    "# # Load the ECG200 dataset from UCR archive\n",
    "train_data, train_labels, test_data, test_labels = datautils.load_ECG()\n",
    "# # (Both train_data and test_data have a shape of n_instances x n_timestamps x n_features)\n",
    "\n",
    "exp_feat = pd.DataFrame(  train_data.reshape(100, -1)[:,40:] )\n",
    "exp_feat = pd.DataFrame(  exp_feat.mean(axis=1) ).values\n",
    "\n",
    "\n",
    "# Train a TS2Vec model\n",
    "model = TS2Vec(\n",
    "    input_dims=1,\n",
    "    device=0,\n",
    "    output_dims=320\n",
    ")\n",
    "loss_log = model.fit(\n",
    "    train_data,\n",
    "    expert_features=exp_feat, #train_data.reshape(100, -1)[:,40:],\n",
    "    verbose=True\n",
    ")\n",
    "\n",
    "# Compute timestamp-level representations for test set\n",
    "test_repr_tl = model.encode(test_data)  # n_instances x n_timestamps x output_dims\n",
    "\n",
    "# Compute instance-level representations for test set\n",
    "test_repr_il = model.encode(test_data, encoding_window='full_series')  # n_instances x output_dims\n",
    "\n",
    "# Sliding inference for test set\n",
    "test_repr_si = model.encode(\n",
    "    test_data,\n",
    "    casual=True,\n",
    "    sliding_length=1,\n",
    "    sliding_padding=50\n",
    ")  # n_instances x n_timestamps x output_dims\n",
    "# (The timestamp t's representation vector is computed using the observations located in [t-50, t])"
   ]
  },
  {
   "cell_type": "code",
   "execution_count": 73,
   "metadata": {},
   "outputs": [
    {
     "data": {
      "text/plain": [
       "<AxesSubplot:>"
      ]
     },
     "execution_count": 73,
     "metadata": {},
     "output_type": "execute_result"
    },
    {
     "data": {
      "image/png": "[encoded data removed]",
      "text/plain": [
       "<Figure size 640x480 with 1 Axes>"
      ]
     },
     "metadata": {},
     "output_type": "display_data"
    }
   ],
   "source": [
    "pd.DataFrame(test_repr_il)[4].plot()"
   ]
  },
  {
   "cell_type": "code",
   "execution_count": 7,
   "metadata": {},
   "outputs": [],
   "source": [
    "batch_xi     = torch.randn(32, 50)\n",
    "batch_xj     = torch.randn(32, 50)\n",
    "batch_f      = torch.randn(32, 10)\n"
   ]
  },
  {
   "cell_type": "code",
   "execution_count": 18,
   "metadata": {},
   "outputs": [
    {
     "data": {
      "text/plain": [
       "tensor(0.2878)"
      ]
     },
     "execution_count": 18,
     "metadata": {},
     "output_type": "execute_result"
    }
   ],
   "source": [
    "\n",
    "quadratic_contrastive_loss(batch_xi, batch_f, delta=1)"
   ]
  },
  {
   "cell_type": "code",
   "execution_count": 11,
   "metadata": {},
   "outputs": [
    {
     "data": {
      "text/plain": [
       "tensor(0.0563)"
      ]
     },
     "execution_count": 11,
     "metadata": {},
     "output_type": "execute_result"
    }
   ],
   "source": [
    "max_diff = get_max_norm(batch_f)\n",
    "\n",
    "\n",
    "similarity_measure(batch_f[0], batch_f[1], max_diff)"
   ]
  },
  {
   "cell_type": "code",
   "execution_count": 71,
   "metadata": {},
   "outputs": [
    {
     "data": {
      "text/plain": [
       "tensor(0.1493)"
      ]
     },
     "execution_count": 71,
     "metadata": {},
     "output_type": "execute_result"
    }
   ],
   "source": [
    "expclr_loss(batch_xi, batch_f, delta=2)\n"
   ]
  },
  {
   "cell_type": "code",
   "execution_count": 63,
   "metadata": {},
   "outputs": [
    {
     "name": "stdout",
     "output_type": "stream",
     "text": [
      "(5, 20)\n"
     ]
    }
   ],
   "source": [
    "from tensorflow.keras.layers import LSTM\n",
    "import tensorflow as tf\n",
    "\n",
    "inputs = tf.random.normal([5, 3, 10])\n",
    "lstm = tf.keras.layers.LSTM(20)\n",
    "output = lstm(inputs)\n",
    "print(output.shape)\n"
   ]
  },
  {
   "cell_type": "code",
   "execution_count": 90,
   "metadata": {},
   "outputs": [],
   "source": [
    "rnn = nn.LSTM(10, 20, batch_first=True)\n",
    "input = torch.randn(5, 3, 10)\n",
    "# h0 = torch.randn(2, 3, 20)\n",
    "# c0 = torch.randn(2, 3, 20)\n",
    "output, (hn, cn) = rnn(input)"
   ]
  },
  {
   "cell_type": "code",
   "execution_count": 184,
   "metadata": {},
   "outputs": [
    {
     "data": {
      "text/plain": [
       "torch.Size([5, 20])"
      ]
     },
     "execution_count": 184,
     "metadata": {},
     "output_type": "execute_result"
    }
   ],
   "source": [
    "hn.reshape(hn.shape[1:]).shape"
   ]
  },
  {
   "cell_type": "code",
   "execution_count": 91,
   "metadata": {},
   "outputs": [
    {
     "name": "stdout",
     "output_type": "stream",
     "text": [
      "torch.Size([5, 3, 20])\n",
      "torch.Size([1, 5, 20])\n",
      "torch.Size([1, 5, 20])\n"
     ]
    }
   ],
   "source": [
    "print( output.shape )\n",
    "print( hn.shape )\n",
    "print( cn.shape )"
   ]
  },
  {
   "cell_type": "code",
   "execution_count": 189,
   "metadata": {},
   "outputs": [
    {
     "data": {
      "text/plain": [
       "torch.Size([5, 20])"
      ]
     },
     "execution_count": 189,
     "metadata": {},
     "output_type": "execute_result"
    }
   ],
   "source": [
    "hn.squeeze(0)"
   ]
  },
  {
   "cell_type": "code",
   "execution_count": 181,
   "metadata": {},
   "outputs": [
    {
     "data": {
      "text/plain": [
       "torch.Size([5, 20])"
      ]
     },
     "execution_count": 181,
     "metadata": {},
     "output_type": "execute_result"
    }
   ],
   "source": [
    "output[:,-1:,:].reshape(5, 20).shape"
   ]
  },
  {
   "cell_type": "code",
   "execution_count": 120,
   "metadata": {},
   "outputs": [
    {
     "data": {
      "text/plain": [
       "tensor([[True, True, True, True, True, True, True, True, True, True, True, True,\n",
       "         True, True, True, True, True, True, True, True],\n",
       "        [True, True, True, True, True, True, True, True, True, True, True, True,\n",
       "         True, True, True, True, True, True, True, True],\n",
       "        [True, True, True, True, True, True, True, True, True, True, True, True,\n",
       "         True, True, True, True, True, True, True, True],\n",
       "        [True, True, True, True, True, True, True, True, True, True, True, True,\n",
       "         True, True, True, True, True, True, True, True],\n",
       "        [True, True, True, True, True, True, True, True, True, True, True, True,\n",
       "         True, True, True, True, True, True, True, True]])"
      ]
     },
     "execution_count": 120,
     "metadata": {},
     "output_type": "execute_result"
    }
   ],
   "source": [
    "output[:,-1:,:].reshape(5, 20) == hn.reshape(5, 20)"
   ]
  },
  {
   "cell_type": "code",
   "execution_count": 7,
   "metadata": {},
   "outputs": [],
   "source": [
    "# data, train_slice, valid_slice, test_slice, scaler, pred_lens, n_covariate_cols = datautils.load_forecast_csv(\"ETTh2\")\n",
    "# train_data = data[:, train_slice]\n",
    "        \n",
    "# # Train a TS2Vec model\n",
    "# model = TS2Vec(\n",
    "#     input_dims=1,\n",
    "#     device=0,\n",
    "#     output_dims=320\n",
    "# )\n",
    "# loss_log = model.fit(\n",
    "#     train_data,\n",
    "#     verbose=True\n",
    "# )\n",
    "\n",
    "# # Compute timestamp-level representations for test set\n",
    "# test_repr = model.encode(test_data)  # n_instances x n_timestamps x output_dims\n",
    "\n",
    "# # Compute instance-level representations for test set\n",
    "# test_repr = model.encode(test_data, encoding_window='full_series')  # n_instances x output_dims\n",
    "\n",
    "# # Sliding inference for test set\n",
    "# test_repr = model.encode(\n",
    "#     test_data,\n",
    "#     casual=True,\n",
    "#     sliding_length=1,\n",
    "#     sliding_padding=50\n",
    "# )  # n_instances x n_timestamps x output_dims\n",
    "# # (The timestamp t's representation vector is computed using the observations located in [t-50, t])"
   ]
  },
  {
   "cell_type": "code",
   "execution_count": null,
   "metadata": {},
   "outputs": [],
   "source": []
  }
 ],
 "metadata": {
  "kernelspec": {
   "display_name": "Python 3.7.10 64-bit",
   "language": "python",
   "name": "python3"
  },
  "language_info": {
   "codemirror_mode": {
    "name": "ipython",
    "version": 3
   },
   "file_extension": ".py",
   "mimetype": "text/x-python",
   "name": "python",
   "nbconvert_exporter": "python",
   "pygments_lexer": "ipython3",
   "version": "3.7.10"
  },
  "orig_nbformat": 4,
  "vscode": {
   "interpreter": {
    "hash": "31f2aee4e71d21fbe5cf8b01ff0e069b9275f58929596ceb00d14d90e3e16cd6"
   }
  }
 },
 "nbformat": 4,
 "nbformat_minor": 2
}
