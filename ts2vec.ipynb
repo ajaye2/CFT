{
 "cells": [
  {
   "cell_type": "markdown",
   "metadata": {},
   "source": []
  },
  {
   "cell_type": "code",
   "execution_count": 1,
   "metadata": {},
   "outputs": [],
   "source": [
    "# %pip show pip\n",
    "# %pip install -U scikit-learn\n",
    "# python3 -m pip3 install jupyter notebook -U"
   ]
  },
  {
   "cell_type": "code",
   "execution_count": 231,
   "metadata": {},
   "outputs": [
    {
     "name": "stdout",
     "output_type": "stream",
     "text": [
      "The autoreload extension is already loaded. To reload it, use:\n",
      "  %reload_ext autoreload\n"
     ]
    }
   ],
   "source": [
    "%load_ext autoreload\n",
    "%autoreload 2\n",
    "\n",
    "from sklearn.model_selection import train_test_split\n",
    "from sklearn.feature_selection import SelectFromModel\n",
    "from sklearn.ensemble import ExtraTreesClassifier\n",
    "from sklearn.linear_model import RidgeClassifier\n",
    "from matplotlib import pyplot as plt\n",
    "from sklearn import linear_model\n",
    "from utils import standardize\n",
    "from datetime import datetime\n",
    "from models.losses import *\n",
    "from ts2vec import TS2Vec\n",
    "from pathlib import Path\n",
    "from tqdm import tqdm\n",
    "from os import walk\n",
    "import pandas as pd\n",
    "import numpy as np\n",
    "import datautils\n",
    "import torch\n",
    "import json\n",
    "\n",
    "\n",
    "\n"
   ]
  },
  {
   "cell_type": "code",
   "execution_count": 232,
   "metadata": {},
   "outputs": [],
   "source": [
    "# TODO: Challenges to solve with stock data\n",
    "    # Have to deal with weekends - time series not continuous (maybe include time features like hour and daily)\n",
    "    # Habe to deal with hours between stock opened and stock closed"
   ]
  },
  {
   "cell_type": "code",
   "execution_count": 235,
   "metadata": {},
   "outputs": [],
   "source": [
    "mypath      = \"/Users/abuj/Documents/GitHub/CFT/datasets/STOCKS/hour/\"\n",
    "ffd_path    = \"/Users/abuj/Documents/GitHub/CFT/datasets/META_FEATURES/FFD/hour/\"\n",
    "cpd_path    = \"/Users/abuj/Documents/GitHub/CFT/datasets/META_FEATURES/CPD/hour/\"\n",
    "\n",
    "filenames   = next(walk(mypath), (None, None, []))[2]  \n",
    "\n",
    "cols_to_perform_ffd = ['open', 'high', 'low', 'close', 'vwap']\n"
   ]
  },
  {
   "cell_type": "code",
   "execution_count": 236,
   "metadata": {},
   "outputs": [
    {
     "name": "stderr",
     "output_type": "stream",
     "text": [
      "100%|██████████| 7/7 [00:10<00:00,  1.44s/it]\n"
     ]
    }
   ],
   "source": [
    "\n",
    "data_dict = {}\n",
    "\n",
    "LOOKBACK_WINDOW                 = 7      # Hyper parameter\n",
    "STANDARIZE_LOOKBACK_WINDOW      = 7 * 3  # Hyper parameter\n",
    "\n",
    "for file in tqdm(filenames[330:]):\n",
    "    df                  = pd.read_csv(mypath + file).set_index('timestamp')[cols_to_perform_ffd]\n",
    "    df_ffd              = pd.read_csv(ffd_path + file).set_index('timestamp')\n",
    "\n",
    "    vol                                   = df.close.ewm(halflife=1).std()\n",
    "    \n",
    "    tasks                                 = pd.DataFrame(index=df.index)\n",
    "    tasks['one_day_price_pred']           = ( df.close - df.close.shift(-1) )\n",
    "    tasks['two_day_price_pred']           = ( df.close - df.close.shift(-2) )\n",
    "    tasks['three_day_price_pred']         = ( df.close - df.close.shift(-3) )\n",
    "    tasks['four_day_price_pred']          = ( df.close - df.close.shift(-4) )\n",
    "    tasks['five_day_price_pred']          = ( df.close - df.close.shift(-5) )\n",
    "\n",
    "    ### Check if volatilty is being created correctly\n",
    "    tasks['one_week_vol_pred']            = ( df.close.rolling(5).std() - df.close.rolling(5).std().shift(-1) )\n",
    "    tasks['one_month_vol_pred']           = ( df.close.rolling(21).std() - df.close.rolling(21).std().shift(-1) )\n",
    "\n",
    "    tasks['one_week_skew_pred']            = ( df.close.rolling(5).skew() - df.close.rolling(5).skew().shift(-1) )\n",
    "    tasks['one_month_skew_pred']           = ( df.close.rolling(21).skew() - df.close.rolling(21).skew().shift(-1) )\n",
    "\n",
    "    # tasks.dropna(inplace=True)\n",
    "    \n",
    "    df                  = standardize(df,     look_back=STANDARIZE_LOOKBACK_WINDOW)\n",
    "    df_ffd              = standardize(df_ffd, look_back=STANDARIZE_LOOKBACK_WINDOW)\n",
    "\n",
    "    idx                 = df_ffd.index.intersection(df.index).intersection(tasks.index)\n",
    "    df, df_ffd,tasks    = df.loc[idx], df_ffd.loc[idx], tasks.loc[idx]\n",
    "\n",
    "\n",
    "    X_data_array, X_data_dict                = [], {}       \n",
    "    EXP_FEAT_data_array                      = []\n",
    "\n",
    "\n",
    "    for i in range(LOOKBACK_WINDOW, len(df)+1):\n",
    "        X_data_array.append( df.iloc[i - LOOKBACK_WINDOW:i].values )\n",
    "        EXP_FEAT_data_array.append( df_ffd.iloc[i-1].values ) # Without minus one, the exp features lead X_DATA by one tiemstamp\n",
    "        X_data_dict[df.index[i-1]]  = df.iloc[i - LOOKBACK_WINDOW:i].values\n",
    "        # EXP_FEAT_data_array[df_ffd.index[i-1]] = df_ffd.iloc[i-1].values\n",
    "    \n",
    "\n",
    "        assert df_ffd.iloc[i-1].name == df.iloc[i - LOOKBACK_WINDOW:i].iloc[-1].name \n",
    "\n",
    "    # X_data_array        = np.array( X_data_array )\n",
    "    # EXP_FEAT_data_array = np.array( EXP_FEAT_data_array )\n",
    "\n",
    "    data_dict[file[:-4]]                  = {}\n",
    "    data_dict[file[:-4]]['X_DATA']        = X_data_array\n",
    "    data_dict[file[:-4]]['EXP_FEAT_DATA'] = EXP_FEAT_data_array\n",
    "    data_dict[file[:-4]]['Y_DATA']        = tasks \n",
    "    data_dict[file[:-4]]['X_DATA_DICT']   = X_data_dict \n",
    "    # print(file, X_data_array.shape, EXP_FEAT_data_array.shape)\n"
   ]
  },
  {
   "cell_type": "code",
   "execution_count": 237,
   "metadata": {},
   "outputs": [
    {
     "name": "stdout",
     "output_type": "stream",
     "text": [
      "(94585, 7, 5) (94585, 10)\n",
      "(40541, 7, 5) (40541, 10)\n"
     ]
    }
   ],
   "source": [
    "pct_train          = 0.7\n",
    "train_data         = np.concatenate( [data_dict[x]['X_DATA'][:int(pct_train*len(data_dict[x]['X_DATA']))] for x in data_dict.keys()])\n",
    "exp_train_data     = np.concatenate( [data_dict[x]['EXP_FEAT_DATA'][:int(pct_train*len(data_dict[x]['X_DATA']))] for x in data_dict.keys()])\n",
    "# train_labels       = np.concatenate( [data_dict[x]['Y_DATA'][:int(pct_train*len(data_dict[x]['X_DATA']))] for x in data_dict.keys()])\n",
    "assert train_data.shape[0] == exp_train_data.shape[0] \n",
    "print(train_data.shape, exp_train_data.shape)\n",
    "\n",
    "\n",
    "test_data         = np.concatenate( [data_dict[x]['X_DATA'][int(pct_train*len(data_dict[x]['X_DATA'])):] for x in data_dict.keys()])\n",
    "exp_test_data     = np.concatenate( [data_dict[x]['EXP_FEAT_DATA'][int(pct_train*len(data_dict[x]['X_DATA'])):] for x in data_dict.keys()])\n",
    "# test_labels       = np.concatenate( [data_dict[x]['Y_DATA'][:int(pct_train*len(data_dict[x]['X_DATA']))] for x in data_dict.keys()])\n",
    "assert test_data.shape[0] == exp_test_data.shape[0] \n",
    "print(test_data.shape, exp_test_data.shape)\n",
    "# # (Both train_data and test_data have a shape of n_instances x n_timestamps x n_features)\n",
    "\n"
   ]
  },
  {
   "cell_type": "code",
   "execution_count": 238,
   "metadata": {},
   "outputs": [
    {
     "name": "stdout",
     "output_type": "stream",
     "text": [
      "Epoch #0: loss=1.684259265439286\n",
      "Epoch #1: loss=1.4027998955893854\n",
      "Epoch #2: loss=1.2868728432690848\n",
      "Epoch #3: loss=1.2405013229367534\n",
      "Epoch #4: loss=1.202363401268008\n",
      "Epoch #5: loss=1.1873371620475237\n",
      "Epoch #6: loss=1.1738709210542384\n",
      "Epoch #7: loss=1.1594421861134596\n",
      "Epoch #8: loss=1.1555890010754322\n",
      "Epoch #9: loss=1.1407591662619996\n"
     ]
    }
   ],
   "source": [
    "\n",
    "# Train a TS2Vec model\n",
    "model = TS2Vec(\n",
    "    input_dims=train_data.shape[-1],\n",
    "    device=0,\n",
    "    output_dims=100,\n",
    "    batch_size=64, \n",
    "   \n",
    ")\n",
    "loss_log = model.fit(\n",
    "    train_data,\n",
    "    expert_features=exp_train_data, # train_data.reshape(100, -1)[:,40:],\n",
    "    verbose=True,\n",
    "    use_expclr_loss=True,\n",
    "    n_epochs=10\n",
    ")\n",
    "\n",
    "# # Compute timestamp-level representations for test set\n",
    "# test_repr_tl = model.encode(test_data)  # n_instances x n_timestamps x output_dims\n",
    "\n",
    "# Compute instance-level representations for test set\n",
    "# test_repr_il = model.encode(test_data, encoding_window='full_series')  # n_instances x output_dims\n",
    "\n",
    "# # Sliding inference for test set\n",
    "# test_repr_si = model.encode(\n",
    "#     test_data,\n",
    "#     casual=True,\n",
    "#     sliding_length=1,\n",
    "#     sliding_padding=50\n",
    "# )  # n_instances x n_timestamps x output_dims\n",
    "# # (The timestamp t's representation vector is computed using the observations located in [t-50, t])"
   ]
  },
  {
   "cell_type": "code",
   "execution_count": 239,
   "metadata": {},
   "outputs": [
    {
     "name": "stdout",
     "output_type": "stream",
     "text": [
      "1000\n",
      "1000\n"
     ]
    }
   ],
   "source": [
    "# data_dict[file[:-4]]['X_DATA_DICT']\n",
    "TEST_ASSET = \"PPL\"\n",
    "\n",
    "num_test_intances = int(pct_train*len(data_dict[TEST_ASSET]['Y_DATA']))\n",
    "\n",
    "test_y = data_dict[TEST_ASSET]['Y_DATA'][num_test_intances:].dropna().iloc[:1000]\n",
    "\n",
    "test_x = { idx: data_dict[TEST_ASSET]['X_DATA_DICT'][idx]  for idx in test_y.index if idx in data_dict[TEST_ASSET]['X_DATA_DICT'].keys() }\n",
    "\n",
    "print( len(test_x) )\n",
    "print( len(test_y) )\n",
    "\n",
    "arrar_for_df = []\n",
    "for idx in test_y.index[:]:\n",
    "    arrar_for_df.append( model.encode(data_dict[TEST_ASSET]['X_DATA_DICT'][idx][np.newaxis, ...], encoding_window='full_series').reshape(-1) )\n",
    "\n",
    "test_repr_il = pd.DataFrame(arrar_for_df, index = test_y.index)"
   ]
  },
  {
   "cell_type": "code",
   "execution_count": 241,
   "metadata": {},
   "outputs": [
    {
     "name": "stdout",
     "output_type": "stream",
     "text": [
      "0.6134328358208955\n",
      "0.47575757575757577\n"
     ]
    }
   ],
   "source": [
    "X_train, X_test, y_train, y_test = train_test_split(test_repr_il, test_y, test_size=0.33, random_state=42)\n",
    "reg = linear_model.LinearRegression()\n",
    "reg = RidgeClassifier()\n",
    "\n",
    "\n",
    "reg.fit( X_train, np.sign( y_train['one_day_price_pred'] ) )\n",
    "\n",
    "print( reg.score(X_train, np.sign( y_train['one_day_price_pred'] ) ) )\n",
    "print( reg.score(X_test,  np.sign( y_test['one_day_price_pred'] ) ) )"
   ]
  },
  {
   "cell_type": "code",
   "execution_count": null,
   "metadata": {},
   "outputs": [],
   "source": []
  },
  {
   "cell_type": "code",
   "execution_count": 242,
   "metadata": {},
   "outputs": [
    {
     "name": "stdout",
     "output_type": "stream",
     "text": [
      "\n",
      " PGR\n",
      "full_series\n",
      "0.5649253731343283\n",
      "0.44393939393939397\n",
      "net_compression\n",
      "0.5552238805970149\n",
      "0.48333333333333334\n",
      "\n",
      " WAT\n",
      "full_series\n",
      "0.5865671641791045\n",
      "0.49696969696969695\n",
      "net_compression\n",
      "0.5552238805970149\n",
      "0.4984848484848485\n",
      "\n",
      " BWA\n",
      "full_series\n",
      "0.5559701492537313\n",
      "0.4484848484848485\n",
      "net_compression\n",
      "0.5477611940298508\n",
      "0.48484848484848486\n",
      "\n",
      " LRCX\n",
      "full_series\n",
      "0.558955223880597\n",
      "0.46515151515151515\n",
      "net_compression\n",
      "0.5402985074626866\n",
      "0.4984848484848485\n",
      "\n",
      " NWL\n",
      "full_series\n",
      "0.55\n",
      "0.4909090909090909\n",
      "net_compression\n",
      "0.5388059701492537\n",
      "0.41818181818181815\n",
      "\n",
      " BLK\n",
      "full_series\n",
      "0.5895522388059702\n",
      "0.4909090909090909\n",
      "net_compression\n",
      "0.558955223880597\n",
      "0.4954545454545455\n",
      "\n",
      " PPL\n",
      "full_series\n",
      "0.5701492537313433\n",
      "0.4575757575757576\n",
      "net_compression\n",
      "0.5216417910447761\n",
      "0.4803030303030303\n",
      "\n",
      " net_compression acheives better results  0.8571428571428571 % of the times \n"
     ]
    }
   ],
   "source": [
    "# data_dict[file[:-4]]['X_DATA_DICT']  \n",
    "#  \n",
    "\n",
    "results = {}\n",
    "\n",
    "mean = 0\n",
    "\n",
    "for TEST_ASSET in  list( data_dict.keys() )[:]:\n",
    "    print(\"\\n\", TEST_ASSET)\n",
    "    results[TEST_ASSET] = {}\n",
    "    \n",
    "    num_test_intances = int(pct_train*len(data_dict[TEST_ASSET]['Y_DATA']))\n",
    "    x_data_index = pd.DatetimeIndex( data_dict[TEST_ASSET]['X_DATA_DICT'].keys() )\n",
    "    data_dict[TEST_ASSET]['Y_DATA'].index  = pd.to_datetime( data_dict[TEST_ASSET]['Y_DATA'].index )\n",
    "\n",
    "    idx = data_dict[TEST_ASSET]['Y_DATA'].dropna().index.intersection(x_data_index)\n",
    "    test_y = data_dict[TEST_ASSET]['Y_DATA'][:].loc[idx].iloc[-2000:] #.dropna()\n",
    "\n",
    "    test_x = { pd.to_datetime( idx ): val for idx, val in data_dict[TEST_ASSET]['X_DATA_DICT'].items() }\n",
    "\n",
    "    # print( len(test_x) )\n",
    "    # print( len(test_y) )\n",
    "\n",
    "    encoding_window_method = ['full_series', 'net_compression']\n",
    "    test_name = 'one_day_price_pred'\n",
    "    for encoding_window in encoding_window_method:\n",
    "        print(encoding_window)\n",
    "        arrar_for_df = [ model.encode(test_x[idx][np.newaxis, ...], encoding_window=encoding_window).reshape(-1) for idx in test_y.index ]\n",
    "\n",
    "        test_repr_il = pd.DataFrame(arrar_for_df, index = test_y.index)\n",
    "\n",
    "        X_train, X_test, y_train, y_test = train_test_split(test_repr_il, test_y, test_size=0.33, random_state=42)\n",
    "        # reg = linear_model.LinearRegression()\n",
    "        reg = RidgeClassifier()\n",
    "        # reg = linear_model.Lasso(alpha=0.1)\n",
    "\n",
    "        clf = ExtraTreesClassifier(n_estimators=50)\n",
    "        clf = clf.fit(X_train, np.sign( y_train[test_name] ))\n",
    "        feat_selec_model = SelectFromModel(clf, prefit=True)\n",
    "        X_train = feat_selec_model.transform(X_train)\n",
    "        X_test = feat_selec_model.transform(X_test)\n",
    "\n",
    "        reg.fit( X_train, np.sign( y_train[test_name] ) )\n",
    "\n",
    "        results[TEST_ASSET][encoding_window] = reg.score(X_test,  np.sign( y_test[test_name] ) )\n",
    "        \n",
    "        print( reg.score(X_train, np.sign( y_train[test_name] ) ) )\n",
    "        print(results[TEST_ASSET][encoding_window])\n",
    "        # print( reg.score(X_test,  np.sign( y_test[test_name] ) ) )\n",
    "\n",
    "    # print(results[TEST_ASSET]['full_series'], results[TEST_ASSET]['net_compression'] )\n",
    "        \n",
    "    mean += results[TEST_ASSET]['full_series'] < results[TEST_ASSET]['net_compression']\n",
    "\n",
    "mean /= len(results.keys())\n",
    "\n",
    "\n",
    "print( \"\\n net_compression acheives better results \", mean, \"% of the times \" )"
   ]
  },
  {
   "cell_type": "code",
   "execution_count": 267,
   "metadata": {},
   "outputs": [
    {
     "ename": "AttributeError",
     "evalue": "'numpy.ndarray' object has no attribute 'loc'",
     "output_type": "error",
     "traceback": [
      "\u001b[0;31m---------------------------------------------------------------------------\u001b[0m",
      "\u001b[0;31mAttributeError\u001b[0m                            Traceback (most recent call last)",
      "Cell \u001b[0;32mIn [267], line 3\u001b[0m\n\u001b[1;32m      1\u001b[0m idx \u001b[39m=\u001b[39m np\u001b[39m.\u001b[39msign( y_test[\u001b[39m'\u001b[39m\u001b[39mone_day_price_pred\u001b[39m\u001b[39m'\u001b[39m] )[ np\u001b[39m.\u001b[39msign( y_test[\u001b[39m'\u001b[39m\u001b[39mone_day_price_pred\u001b[39m\u001b[39m'\u001b[39m] ) \u001b[39m!=\u001b[39m \u001b[39m0\u001b[39m]\u001b[39m.\u001b[39mindex\n\u001b[1;32m      2\u001b[0m \u001b[39mfor\u001b[39;00m i \u001b[39min\u001b[39;00m \u001b[39mrange\u001b[39m(\u001b[39m100\u001b[39m):\n\u001b[0;32m----> 3\u001b[0m     acc \u001b[39m=\u001b[39m ( np\u001b[39m.\u001b[39;49msign( X_test )[i]\u001b[39m.\u001b[39;49mloc[idx] \u001b[39m==\u001b[39m np\u001b[39m.\u001b[39msign( y_test[\u001b[39m'\u001b[39m\u001b[39mone_day_price_pred\u001b[39m\u001b[39m'\u001b[39m]\u001b[39m.\u001b[39mloc[idx] ) )\u001b[39m.\u001b[39mmean()\n\u001b[1;32m      4\u001b[0m     \u001b[39mif\u001b[39;00m acc \u001b[39m>\u001b[39m \u001b[39m.52\u001b[39m:\n\u001b[1;32m      5\u001b[0m         \u001b[39mprint\u001b[39m(i, acc)\n",
      "\u001b[0;31mAttributeError\u001b[0m: 'numpy.ndarray' object has no attribute 'loc'"
     ]
    }
   ],
   "source": [
    "idx = np.sign( y_test['one_day_price_pred'] )[ np.sign( y_test['one_day_price_pred'] ) != 0].index\n",
    "for i in range(100):\n",
    "    acc = ( np.sign( X_test )[i].loc[idx] == np.sign( y_test['one_day_price_pred'].loc[idx] ) ).mean()\n",
    "    if acc > .52:\n",
    "        print(i, acc)"
   ]
  },
  {
   "cell_type": "code",
   "execution_count": 222,
   "metadata": {},
   "outputs": [
    {
     "data": {
      "text/plain": [
       "<AxesSubplot: >"
      ]
     },
     "execution_count": 222,
     "metadata": {},
     "output_type": "execute_result"
    },
    {
     "data": {
      "image/png": "[encoded data removed]",
      "text/plain": [
       "<Figure size 640x480 with 1 Axes>"
      ]
     },
     "metadata": {},
     "output_type": "display_data"
    }
   ],
   "source": [
    "test_repr_il[2].plot()"
   ]
  },
  {
   "cell_type": "code",
   "execution_count": 176,
   "metadata": {},
   "outputs": [
    {
     "name": "stdout",
     "output_type": "stream",
     "text": [
      "PGR 0.4666666666666667 0.4696969696969697\n",
      "WAT 0.4666666666666667 0.4696969696969697\n",
      "BWA 0.4666666666666667 0.4696969696969697\n",
      "LRCX 0.4666666666666667 0.4696969696969697\n",
      "NWL 0.4666666666666667 0.4696969696969697\n",
      "BLK 0.4666666666666667 0.4696969696969697\n",
      "PPL 0.4666666666666667 0.4696969696969697\n"
     ]
    },
    {
     "data": {
      "text/plain": [
       "1.0"
      ]
     },
     "execution_count": 176,
     "metadata": {},
     "output_type": "execute_result"
    }
   ],
   "source": [
    "results[TEST_ASSET][encoding_window]\n",
    "\n",
    "# TODO: Result has same values for all keys\n",
    "mean = 0\n",
    "for key in results.keys():\n",
    "    print(key, results[TEST_ASSET]['full_series'], results[TEST_ASSET]['net_compression'])\n",
    "    mean += results[TEST_ASSET]['full_series'] < results[TEST_ASSET]['net_compression']\n",
    "\n",
    "mean /= len(results.keys())\n",
    "mean"
   ]
  },
  {
   "cell_type": "code",
   "execution_count": 132,
   "metadata": {},
   "outputs": [
    {
     "data": {
      "text/plain": [
       "<AxesSubplot: xlabel='timestamp'>"
      ]
     },
     "execution_count": 132,
     "metadata": {},
     "output_type": "execute_result"
    },
    {
     "data": {
      "image/png": "[encoded data removed]",
      "text/plain": [
       "<Figure size 640x480 with 1 Axes>"
      ]
     },
     "metadata": {},
     "output_type": "display_data"
    }
   ],
   "source": [
    "test_repr_il[0].plot()"
   ]
  },
  {
   "cell_type": "code",
   "execution_count": null,
   "metadata": {},
   "outputs": [],
   "source": [
    "### TEST LOSS FUNCTIONS\n",
    "BATCH_SIZE              = 100\n",
    "rnn                     = nn.LSTM(5, 20, batch_first=True).float()\n",
    "loss_test_values        = torch.from_numpy( train_data[:BATCH_SIZE] ).float()\n",
    "output, (hn, cn)        = rnn(loss_test_values)\n",
    "hn                      = hn.squeeze(0)\n",
    "loss_test_exp_values    = torch.from_numpy( exp_train_data[:BATCH_SIZE]).float()\n",
    "\n",
    "print( \"quadratic_contrastive_loss: \", quadratic_contrastive_loss(hn, loss_test_exp_values, delta=1) )\n",
    "print( \"expclr_loss: \", expclr_loss(hn, loss_test_exp_values, delta=1) )\n",
    "\n",
    "# max_diff = get_max_norm(batch_f)\n",
    "# similarity_measure(batch_f[0], batch_f[1], max_diff)"
   ]
  },
  {
   "cell_type": "code",
   "execution_count": null,
   "metadata": {},
   "outputs": [],
   "source": [
    "# out = model._eval_with_pooling(torch.from_numpy( test_data[:64] ).to(torch.float), None, encoding_window='')"
   ]
  },
  {
   "cell_type": "code",
   "execution_count": 51,
   "metadata": {},
   "outputs": [
    {
     "name": "stdout",
     "output_type": "stream",
     "text": [
      "Epoch #0: loss=2.3774041334788003\n",
      "Epoch #1: loss=1.8855595191319783\n"
     ]
    },
    {
     "ename": "KeyboardInterrupt",
     "evalue": "",
     "output_type": "error",
     "traceback": [
      "\u001b[0;31m---------------------------------------------------------------------------\u001b[0m",
      "\u001b[0;31mKeyboardInterrupt\u001b[0m                         Traceback (most recent call last)",
      "Cell \u001b[0;32mIn [51], line 15\u001b[0m\n\u001b[1;32m      9\u001b[0m \u001b[39m# Train a TS2Vec model\u001b[39;00m\n\u001b[1;32m     10\u001b[0m model \u001b[39m=\u001b[39m TS2Vec(\n\u001b[1;32m     11\u001b[0m     input_dims\u001b[39m=\u001b[39m\u001b[39m1\u001b[39m,\n\u001b[1;32m     12\u001b[0m     device\u001b[39m=\u001b[39m\u001b[39m0\u001b[39m,\n\u001b[1;32m     13\u001b[0m     output_dims\u001b[39m=\u001b[39m\u001b[39m320\u001b[39m\n\u001b[1;32m     14\u001b[0m )\n\u001b[0;32m---> 15\u001b[0m loss_log \u001b[39m=\u001b[39m model\u001b[39m.\u001b[39;49mfit(\n\u001b[1;32m     16\u001b[0m     train_data,\n\u001b[1;32m     17\u001b[0m     expert_features\u001b[39m=\u001b[39;49mexp_feat, \u001b[39m#train_data.reshape(100, -1)[:,40:],\u001b[39;49;00m\n\u001b[1;32m     18\u001b[0m     verbose\u001b[39m=\u001b[39;49m\u001b[39mTrue\u001b[39;49;00m\n\u001b[1;32m     19\u001b[0m )\n\u001b[1;32m     21\u001b[0m \u001b[39m# Compute timestamp-level representations for test set\u001b[39;00m\n\u001b[1;32m     22\u001b[0m test_repr_tl \u001b[39m=\u001b[39m model\u001b[39m.\u001b[39mencode(test_data)  \u001b[39m# n_instances x n_timestamps x output_dims\u001b[39;00m\n",
      "File \u001b[0;32m~/Documents/GitHub/CFT/ts2vec.py:169\u001b[0m, in \u001b[0;36mTS2Vec.fit\u001b[0;34m(self, train_data, expert_features, n_epochs, n_iters, verbose, temperature, delta, loss_weight_scale, use_expclr_loss)\u001b[0m\n\u001b[1;32m    166\u001b[0m out1 \u001b[39m=\u001b[39m out1[:, \u001b[39m-\u001b[39mcrop_l:]\n\u001b[1;32m    167\u001b[0m out1 \u001b[39m=\u001b[39m \u001b[39mself\u001b[39m\u001b[39m.\u001b[39m_projection_head(out1)\n\u001b[0;32m--> 169\u001b[0m out2 \u001b[39m=\u001b[39m \u001b[39mself\u001b[39;49m\u001b[39m.\u001b[39;49m_net(take_per_row(x, crop_offset \u001b[39m+\u001b[39;49m crop_left, crop_eright \u001b[39m-\u001b[39;49m crop_left))\n\u001b[1;32m    170\u001b[0m out2 \u001b[39m=\u001b[39m out2[:, :crop_l]\n\u001b[1;32m    171\u001b[0m out2 \u001b[39m=\u001b[39m \u001b[39mself\u001b[39m\u001b[39m.\u001b[39m_projection_head(out2) \u001b[39m### Added projection layer\u001b[39;00m\n",
      "File \u001b[0;32m~/Library/Python/3.9/lib/python/site-packages/torch/nn/modules/module.py:1190\u001b[0m, in \u001b[0;36mModule._call_impl\u001b[0;34m(self, *input, **kwargs)\u001b[0m\n\u001b[1;32m   1186\u001b[0m \u001b[39m# If we don't have any hooks, we want to skip the rest of the logic in\u001b[39;00m\n\u001b[1;32m   1187\u001b[0m \u001b[39m# this function, and just call forward.\u001b[39;00m\n\u001b[1;32m   1188\u001b[0m \u001b[39mif\u001b[39;00m \u001b[39mnot\u001b[39;00m (\u001b[39mself\u001b[39m\u001b[39m.\u001b[39m_backward_hooks \u001b[39mor\u001b[39;00m \u001b[39mself\u001b[39m\u001b[39m.\u001b[39m_forward_hooks \u001b[39mor\u001b[39;00m \u001b[39mself\u001b[39m\u001b[39m.\u001b[39m_forward_pre_hooks \u001b[39mor\u001b[39;00m _global_backward_hooks\n\u001b[1;32m   1189\u001b[0m         \u001b[39mor\u001b[39;00m _global_forward_hooks \u001b[39mor\u001b[39;00m _global_forward_pre_hooks):\n\u001b[0;32m-> 1190\u001b[0m     \u001b[39mreturn\u001b[39;00m forward_call(\u001b[39m*\u001b[39;49m\u001b[39minput\u001b[39;49m, \u001b[39m*\u001b[39;49m\u001b[39m*\u001b[39;49mkwargs)\n\u001b[1;32m   1191\u001b[0m \u001b[39m# Do not call functions when jit is used\u001b[39;00m\n\u001b[1;32m   1192\u001b[0m full_backward_hooks, non_full_backward_hooks \u001b[39m=\u001b[39m [], []\n",
      "File \u001b[0;32m~/Documents/GitHub/CFT/models/encoder.py:70\u001b[0m, in \u001b[0;36mTSEncoder.forward\u001b[0;34m(self, x, mask)\u001b[0m\n\u001b[1;32m     68\u001b[0m \u001b[39m# conv encoder\u001b[39;00m\n\u001b[1;32m     69\u001b[0m x \u001b[39m=\u001b[39m x\u001b[39m.\u001b[39mtranspose(\u001b[39m1\u001b[39m, \u001b[39m2\u001b[39m)  \u001b[39m# B x Ch x T\u001b[39;00m\n\u001b[0;32m---> 70\u001b[0m x \u001b[39m=\u001b[39m \u001b[39mself\u001b[39m\u001b[39m.\u001b[39mrepr_dropout(\u001b[39mself\u001b[39;49m\u001b[39m.\u001b[39;49mfeature_extractor(x))  \u001b[39m# B x Co x T\u001b[39;00m\n\u001b[1;32m     71\u001b[0m x \u001b[39m=\u001b[39m x\u001b[39m.\u001b[39mtranspose(\u001b[39m1\u001b[39m, \u001b[39m2\u001b[39m)  \u001b[39m# B x T x Co\u001b[39;00m\n\u001b[1;32m     73\u001b[0m \u001b[39mreturn\u001b[39;00m x\n",
      "File \u001b[0;32m~/Library/Python/3.9/lib/python/site-packages/torch/nn/modules/module.py:1190\u001b[0m, in \u001b[0;36mModule._call_impl\u001b[0;34m(self, *input, **kwargs)\u001b[0m\n\u001b[1;32m   1186\u001b[0m \u001b[39m# If we don't have any hooks, we want to skip the rest of the logic in\u001b[39;00m\n\u001b[1;32m   1187\u001b[0m \u001b[39m# this function, and just call forward.\u001b[39;00m\n\u001b[1;32m   1188\u001b[0m \u001b[39mif\u001b[39;00m \u001b[39mnot\u001b[39;00m (\u001b[39mself\u001b[39m\u001b[39m.\u001b[39m_backward_hooks \u001b[39mor\u001b[39;00m \u001b[39mself\u001b[39m\u001b[39m.\u001b[39m_forward_hooks \u001b[39mor\u001b[39;00m \u001b[39mself\u001b[39m\u001b[39m.\u001b[39m_forward_pre_hooks \u001b[39mor\u001b[39;00m _global_backward_hooks\n\u001b[1;32m   1189\u001b[0m         \u001b[39mor\u001b[39;00m _global_forward_hooks \u001b[39mor\u001b[39;00m _global_forward_pre_hooks):\n\u001b[0;32m-> 1190\u001b[0m     \u001b[39mreturn\u001b[39;00m forward_call(\u001b[39m*\u001b[39;49m\u001b[39minput\u001b[39;49m, \u001b[39m*\u001b[39;49m\u001b[39m*\u001b[39;49mkwargs)\n\u001b[1;32m   1191\u001b[0m \u001b[39m# Do not call functions when jit is used\u001b[39;00m\n\u001b[1;32m   1192\u001b[0m full_backward_hooks, non_full_backward_hooks \u001b[39m=\u001b[39m [], []\n",
      "File \u001b[0;32m~/Documents/GitHub/CFT/models/dilated_conv.py:55\u001b[0m, in \u001b[0;36mDilatedConvEncoder.forward\u001b[0;34m(self, x)\u001b[0m\n\u001b[1;32m     54\u001b[0m \u001b[39mdef\u001b[39;00m \u001b[39mforward\u001b[39m(\u001b[39mself\u001b[39m, x):\n\u001b[0;32m---> 55\u001b[0m     \u001b[39mreturn\u001b[39;00m \u001b[39mself\u001b[39;49m\u001b[39m.\u001b[39;49mnet(x)\n",
      "File \u001b[0;32m~/Library/Python/3.9/lib/python/site-packages/torch/nn/modules/module.py:1190\u001b[0m, in \u001b[0;36mModule._call_impl\u001b[0;34m(self, *input, **kwargs)\u001b[0m\n\u001b[1;32m   1186\u001b[0m \u001b[39m# If we don't have any hooks, we want to skip the rest of the logic in\u001b[39;00m\n\u001b[1;32m   1187\u001b[0m \u001b[39m# this function, and just call forward.\u001b[39;00m\n\u001b[1;32m   1188\u001b[0m \u001b[39mif\u001b[39;00m \u001b[39mnot\u001b[39;00m (\u001b[39mself\u001b[39m\u001b[39m.\u001b[39m_backward_hooks \u001b[39mor\u001b[39;00m \u001b[39mself\u001b[39m\u001b[39m.\u001b[39m_forward_hooks \u001b[39mor\u001b[39;00m \u001b[39mself\u001b[39m\u001b[39m.\u001b[39m_forward_pre_hooks \u001b[39mor\u001b[39;00m _global_backward_hooks\n\u001b[1;32m   1189\u001b[0m         \u001b[39mor\u001b[39;00m _global_forward_hooks \u001b[39mor\u001b[39;00m _global_forward_pre_hooks):\n\u001b[0;32m-> 1190\u001b[0m     \u001b[39mreturn\u001b[39;00m forward_call(\u001b[39m*\u001b[39;49m\u001b[39minput\u001b[39;49m, \u001b[39m*\u001b[39;49m\u001b[39m*\u001b[39;49mkwargs)\n\u001b[1;32m   1191\u001b[0m \u001b[39m# Do not call functions when jit is used\u001b[39;00m\n\u001b[1;32m   1192\u001b[0m full_backward_hooks, non_full_backward_hooks \u001b[39m=\u001b[39m [], []\n",
      "File \u001b[0;32m~/Library/Python/3.9/lib/python/site-packages/torch/nn/modules/container.py:204\u001b[0m, in \u001b[0;36mSequential.forward\u001b[0;34m(self, input)\u001b[0m\n\u001b[1;32m    202\u001b[0m \u001b[39mdef\u001b[39;00m \u001b[39mforward\u001b[39m(\u001b[39mself\u001b[39m, \u001b[39minput\u001b[39m):\n\u001b[1;32m    203\u001b[0m     \u001b[39mfor\u001b[39;00m module \u001b[39min\u001b[39;00m \u001b[39mself\u001b[39m:\n\u001b[0;32m--> 204\u001b[0m         \u001b[39minput\u001b[39m \u001b[39m=\u001b[39m module(\u001b[39minput\u001b[39;49m)\n\u001b[1;32m    205\u001b[0m     \u001b[39mreturn\u001b[39;00m \u001b[39minput\u001b[39m\n",
      "File \u001b[0;32m~/Library/Python/3.9/lib/python/site-packages/torch/nn/modules/module.py:1190\u001b[0m, in \u001b[0;36mModule._call_impl\u001b[0;34m(self, *input, **kwargs)\u001b[0m\n\u001b[1;32m   1186\u001b[0m \u001b[39m# If we don't have any hooks, we want to skip the rest of the logic in\u001b[39;00m\n\u001b[1;32m   1187\u001b[0m \u001b[39m# this function, and just call forward.\u001b[39;00m\n\u001b[1;32m   1188\u001b[0m \u001b[39mif\u001b[39;00m \u001b[39mnot\u001b[39;00m (\u001b[39mself\u001b[39m\u001b[39m.\u001b[39m_backward_hooks \u001b[39mor\u001b[39;00m \u001b[39mself\u001b[39m\u001b[39m.\u001b[39m_forward_hooks \u001b[39mor\u001b[39;00m \u001b[39mself\u001b[39m\u001b[39m.\u001b[39m_forward_pre_hooks \u001b[39mor\u001b[39;00m _global_backward_hooks\n\u001b[1;32m   1189\u001b[0m         \u001b[39mor\u001b[39;00m _global_forward_hooks \u001b[39mor\u001b[39;00m _global_forward_pre_hooks):\n\u001b[0;32m-> 1190\u001b[0m     \u001b[39mreturn\u001b[39;00m forward_call(\u001b[39m*\u001b[39;49m\u001b[39minput\u001b[39;49m, \u001b[39m*\u001b[39;49m\u001b[39m*\u001b[39;49mkwargs)\n\u001b[1;32m   1191\u001b[0m \u001b[39m# Do not call functions when jit is used\u001b[39;00m\n\u001b[1;32m   1192\u001b[0m full_backward_hooks, non_full_backward_hooks \u001b[39m=\u001b[39m [], []\n",
      "File \u001b[0;32m~/Documents/GitHub/CFT/models/dilated_conv.py:35\u001b[0m, in \u001b[0;36mConvBlock.forward\u001b[0;34m(self, x)\u001b[0m\n\u001b[1;32m     33\u001b[0m residual \u001b[39m=\u001b[39m x \u001b[39mif\u001b[39;00m \u001b[39mself\u001b[39m\u001b[39m.\u001b[39mprojector \u001b[39mis\u001b[39;00m \u001b[39mNone\u001b[39;00m \u001b[39melse\u001b[39;00m \u001b[39mself\u001b[39m\u001b[39m.\u001b[39mprojector(x)\n\u001b[1;32m     34\u001b[0m x \u001b[39m=\u001b[39m F\u001b[39m.\u001b[39mgelu(x)\n\u001b[0;32m---> 35\u001b[0m x \u001b[39m=\u001b[39m \u001b[39mself\u001b[39;49m\u001b[39m.\u001b[39;49mconv1(x)\n\u001b[1;32m     36\u001b[0m x \u001b[39m=\u001b[39m F\u001b[39m.\u001b[39mgelu(x)\n\u001b[1;32m     37\u001b[0m x \u001b[39m=\u001b[39m \u001b[39mself\u001b[39m\u001b[39m.\u001b[39mconv2(x)\n",
      "File \u001b[0;32m~/Library/Python/3.9/lib/python/site-packages/torch/nn/modules/module.py:1190\u001b[0m, in \u001b[0;36mModule._call_impl\u001b[0;34m(self, *input, **kwargs)\u001b[0m\n\u001b[1;32m   1186\u001b[0m \u001b[39m# If we don't have any hooks, we want to skip the rest of the logic in\u001b[39;00m\n\u001b[1;32m   1187\u001b[0m \u001b[39m# this function, and just call forward.\u001b[39;00m\n\u001b[1;32m   1188\u001b[0m \u001b[39mif\u001b[39;00m \u001b[39mnot\u001b[39;00m (\u001b[39mself\u001b[39m\u001b[39m.\u001b[39m_backward_hooks \u001b[39mor\u001b[39;00m \u001b[39mself\u001b[39m\u001b[39m.\u001b[39m_forward_hooks \u001b[39mor\u001b[39;00m \u001b[39mself\u001b[39m\u001b[39m.\u001b[39m_forward_pre_hooks \u001b[39mor\u001b[39;00m _global_backward_hooks\n\u001b[1;32m   1189\u001b[0m         \u001b[39mor\u001b[39;00m _global_forward_hooks \u001b[39mor\u001b[39;00m _global_forward_pre_hooks):\n\u001b[0;32m-> 1190\u001b[0m     \u001b[39mreturn\u001b[39;00m forward_call(\u001b[39m*\u001b[39;49m\u001b[39minput\u001b[39;49m, \u001b[39m*\u001b[39;49m\u001b[39m*\u001b[39;49mkwargs)\n\u001b[1;32m   1191\u001b[0m \u001b[39m# Do not call functions when jit is used\u001b[39;00m\n\u001b[1;32m   1192\u001b[0m full_backward_hooks, non_full_backward_hooks \u001b[39m=\u001b[39m [], []\n",
      "File \u001b[0;32m~/Documents/GitHub/CFT/models/dilated_conv.py:20\u001b[0m, in \u001b[0;36mSamePadConv.forward\u001b[0;34m(self, x)\u001b[0m\n\u001b[1;32m     19\u001b[0m \u001b[39mdef\u001b[39;00m \u001b[39mforward\u001b[39m(\u001b[39mself\u001b[39m, x):\n\u001b[0;32m---> 20\u001b[0m     out \u001b[39m=\u001b[39m \u001b[39mself\u001b[39;49m\u001b[39m.\u001b[39;49mconv(x)\n\u001b[1;32m     21\u001b[0m     \u001b[39mif\u001b[39;00m \u001b[39mself\u001b[39m\u001b[39m.\u001b[39mremove \u001b[39m>\u001b[39m \u001b[39m0\u001b[39m:\n\u001b[1;32m     22\u001b[0m         out \u001b[39m=\u001b[39m out[:, :, : \u001b[39m-\u001b[39m\u001b[39mself\u001b[39m\u001b[39m.\u001b[39mremove]\n",
      "File \u001b[0;32m~/Library/Python/3.9/lib/python/site-packages/torch/nn/modules/module.py:1190\u001b[0m, in \u001b[0;36mModule._call_impl\u001b[0;34m(self, *input, **kwargs)\u001b[0m\n\u001b[1;32m   1186\u001b[0m \u001b[39m# If we don't have any hooks, we want to skip the rest of the logic in\u001b[39;00m\n\u001b[1;32m   1187\u001b[0m \u001b[39m# this function, and just call forward.\u001b[39;00m\n\u001b[1;32m   1188\u001b[0m \u001b[39mif\u001b[39;00m \u001b[39mnot\u001b[39;00m (\u001b[39mself\u001b[39m\u001b[39m.\u001b[39m_backward_hooks \u001b[39mor\u001b[39;00m \u001b[39mself\u001b[39m\u001b[39m.\u001b[39m_forward_hooks \u001b[39mor\u001b[39;00m \u001b[39mself\u001b[39m\u001b[39m.\u001b[39m_forward_pre_hooks \u001b[39mor\u001b[39;00m _global_backward_hooks\n\u001b[1;32m   1189\u001b[0m         \u001b[39mor\u001b[39;00m _global_forward_hooks \u001b[39mor\u001b[39;00m _global_forward_pre_hooks):\n\u001b[0;32m-> 1190\u001b[0m     \u001b[39mreturn\u001b[39;00m forward_call(\u001b[39m*\u001b[39;49m\u001b[39minput\u001b[39;49m, \u001b[39m*\u001b[39;49m\u001b[39m*\u001b[39;49mkwargs)\n\u001b[1;32m   1191\u001b[0m \u001b[39m# Do not call functions when jit is used\u001b[39;00m\n\u001b[1;32m   1192\u001b[0m full_backward_hooks, non_full_backward_hooks \u001b[39m=\u001b[39m [], []\n",
      "File \u001b[0;32m~/Library/Python/3.9/lib/python/site-packages/torch/nn/modules/conv.py:313\u001b[0m, in \u001b[0;36mConv1d.forward\u001b[0;34m(self, input)\u001b[0m\n\u001b[1;32m    312\u001b[0m \u001b[39mdef\u001b[39;00m \u001b[39mforward\u001b[39m(\u001b[39mself\u001b[39m, \u001b[39minput\u001b[39m: Tensor) \u001b[39m-\u001b[39m\u001b[39m>\u001b[39m Tensor:\n\u001b[0;32m--> 313\u001b[0m     \u001b[39mreturn\u001b[39;00m \u001b[39mself\u001b[39;49m\u001b[39m.\u001b[39;49m_conv_forward(\u001b[39minput\u001b[39;49m, \u001b[39mself\u001b[39;49m\u001b[39m.\u001b[39;49mweight, \u001b[39mself\u001b[39;49m\u001b[39m.\u001b[39;49mbias)\n",
      "File \u001b[0;32m~/Library/Python/3.9/lib/python/site-packages/torch/nn/modules/conv.py:309\u001b[0m, in \u001b[0;36mConv1d._conv_forward\u001b[0;34m(self, input, weight, bias)\u001b[0m\n\u001b[1;32m    305\u001b[0m \u001b[39mif\u001b[39;00m \u001b[39mself\u001b[39m\u001b[39m.\u001b[39mpadding_mode \u001b[39m!=\u001b[39m \u001b[39m'\u001b[39m\u001b[39mzeros\u001b[39m\u001b[39m'\u001b[39m:\n\u001b[1;32m    306\u001b[0m     \u001b[39mreturn\u001b[39;00m F\u001b[39m.\u001b[39mconv1d(F\u001b[39m.\u001b[39mpad(\u001b[39minput\u001b[39m, \u001b[39mself\u001b[39m\u001b[39m.\u001b[39m_reversed_padding_repeated_twice, mode\u001b[39m=\u001b[39m\u001b[39mself\u001b[39m\u001b[39m.\u001b[39mpadding_mode),\n\u001b[1;32m    307\u001b[0m                     weight, bias, \u001b[39mself\u001b[39m\u001b[39m.\u001b[39mstride,\n\u001b[1;32m    308\u001b[0m                     _single(\u001b[39m0\u001b[39m), \u001b[39mself\u001b[39m\u001b[39m.\u001b[39mdilation, \u001b[39mself\u001b[39m\u001b[39m.\u001b[39mgroups)\n\u001b[0;32m--> 309\u001b[0m \u001b[39mreturn\u001b[39;00m F\u001b[39m.\u001b[39;49mconv1d(\u001b[39minput\u001b[39;49m, weight, bias, \u001b[39mself\u001b[39;49m\u001b[39m.\u001b[39;49mstride,\n\u001b[1;32m    310\u001b[0m                 \u001b[39mself\u001b[39;49m\u001b[39m.\u001b[39;49mpadding, \u001b[39mself\u001b[39;49m\u001b[39m.\u001b[39;49mdilation, \u001b[39mself\u001b[39;49m\u001b[39m.\u001b[39;49mgroups)\n",
      "\u001b[0;31mKeyboardInterrupt\u001b[0m: "
     ]
    }
   ],
   "source": [
    "\n",
    "\n",
    "# # # Load the ECG200 dataset from UCR archive\n",
    "# train_data, train_labels, test_data, test_labels = datautils.load_ECG()\n",
    "# # # (Both train_data and test_data have a shape of n_instances x n_timestamps x n_features)\n",
    "\n",
    "# exp_feat = pd.DataFrame(  train_data.reshape(100, -1)[:,40:] )\n",
    "# exp_feat = pd.DataFrame(  exp_feat.mean(axis=1) ).values\n",
    "\n",
    "\n",
    "# # Train a TS2Vec model\n",
    "# model = TS2Vec(\n",
    "#     input_dims=1,\n",
    "#     device=0,\n",
    "#     output_dims=320\n",
    "# )\n",
    "# loss_log = model.fit(\n",
    "#     train_data,\n",
    "#     expert_features=exp_feat, #train_data.reshape(100, -1)[:,40:],\n",
    "#     verbose=True\n",
    "# )\n",
    "\n",
    "# # Compute timestamp-level representations for test set\n",
    "# test_repr_tl = model.encode(test_data)  # n_instances x n_timestamps x output_dims\n",
    "\n",
    "# # Compute instance-level representations for test set\n",
    "# test_repr_il = model.encode(test_data, encoding_window='full_series')  # n_instances x output_dims\n",
    "\n",
    "# # Sliding inference for test set\n",
    "# test_repr_si = model.encode(\n",
    "#     test_data,\n",
    "#     casual=True,\n",
    "#     sliding_length=1,\n",
    "#     sliding_padding=50\n",
    "# )  # n_instances x n_timestamps x output_dims\n",
    "# # (The timestamp t's representation vector is computed using the observations located in [t-50, t])"
   ]
  },
  {
   "cell_type": "code",
   "execution_count": null,
   "metadata": {},
   "outputs": [],
   "source": [
    "pd.DataFrame(test_repr_il)[4].plot()"
   ]
  },
  {
   "cell_type": "code",
   "execution_count": null,
   "metadata": {},
   "outputs": [],
   "source": [
    "batch_xi     = torch.randn(32, 50)\n",
    "batch_xj     = torch.randn(32, 50)\n",
    "batch_f      = torch.randn(32, 10)\n"
   ]
  },
  {
   "cell_type": "code",
   "execution_count": 18,
   "metadata": {},
   "outputs": [
    {
     "data": {
      "text/plain": [
       "tensor(0.2878)"
      ]
     },
     "execution_count": 18,
     "metadata": {},
     "output_type": "execute_result"
    }
   ],
   "source": [
    "\n",
    "quadratic_contrastive_loss(batch_xi, batch_f, delta=1)"
   ]
  },
  {
   "cell_type": "code",
   "execution_count": 11,
   "metadata": {},
   "outputs": [
    {
     "data": {
      "text/plain": [
       "tensor(0.0563)"
      ]
     },
     "execution_count": 11,
     "metadata": {},
     "output_type": "execute_result"
    }
   ],
   "source": [
    "max_diff = get_max_norm(batch_f)\n",
    "\n",
    "\n",
    "similarity_measure(batch_f[0], batch_f[1], max_diff)"
   ]
  },
  {
   "cell_type": "code",
   "execution_count": 71,
   "metadata": {},
   "outputs": [
    {
     "data": {
      "text/plain": [
       "tensor(0.1493)"
      ]
     },
     "execution_count": 71,
     "metadata": {},
     "output_type": "execute_result"
    }
   ],
   "source": [
    "expclr_loss(batch_xi, batch_f, delta=2)\n"
   ]
  },
  {
   "cell_type": "code",
   "execution_count": 63,
   "metadata": {},
   "outputs": [
    {
     "name": "stdout",
     "output_type": "stream",
     "text": [
      "(5, 20)\n"
     ]
    }
   ],
   "source": [
    "from tensorflow.keras.layers import LSTM\n",
    "import tensorflow as tf\n",
    "\n",
    "inputs = tf.random.normal([5, 3, 10])\n",
    "lstm = tf.keras.layers.LSTM(20)\n",
    "output = lstm(inputs)\n",
    "print(output.shape)\n"
   ]
  },
  {
   "cell_type": "code",
   "execution_count": 90,
   "metadata": {},
   "outputs": [],
   "source": [
    "rnn = nn.LSTM(10, 20, batch_first=True)\n",
    "input = torch.randn(5, 3, 10)\n",
    "# h0 = torch.randn(2, 3, 20)\n",
    "# c0 = torch.randn(2, 3, 20)\n",
    "output, (hn, cn) = rnn(input)"
   ]
  },
  {
   "cell_type": "code",
   "execution_count": 184,
   "metadata": {},
   "outputs": [
    {
     "data": {
      "text/plain": [
       "torch.Size([5, 20])"
      ]
     },
     "execution_count": 184,
     "metadata": {},
     "output_type": "execute_result"
    }
   ],
   "source": [
    "hn.reshape(hn.shape[1:]).shape"
   ]
  },
  {
   "cell_type": "code",
   "execution_count": 91,
   "metadata": {},
   "outputs": [
    {
     "name": "stdout",
     "output_type": "stream",
     "text": [
      "torch.Size([5, 3, 20])\n",
      "torch.Size([1, 5, 20])\n",
      "torch.Size([1, 5, 20])\n"
     ]
    }
   ],
   "source": [
    "print( output.shape )\n",
    "print( hn.shape )\n",
    "print( cn.shape )"
   ]
  },
  {
   "cell_type": "code",
   "execution_count": 189,
   "metadata": {},
   "outputs": [
    {
     "data": {
      "text/plain": [
       "torch.Size([5, 20])"
      ]
     },
     "execution_count": 189,
     "metadata": {},
     "output_type": "execute_result"
    }
   ],
   "source": [
    "hn.squeeze(0)"
   ]
  },
  {
   "cell_type": "code",
   "execution_count": 181,
   "metadata": {},
   "outputs": [
    {
     "data": {
      "text/plain": [
       "torch.Size([5, 20])"
      ]
     },
     "execution_count": 181,
     "metadata": {},
     "output_type": "execute_result"
    }
   ],
   "source": [
    "output[:,-1:,:].reshape(5, 20).shape"
   ]
  },
  {
   "cell_type": "code",
   "execution_count": 120,
   "metadata": {},
   "outputs": [
    {
     "data": {
      "text/plain": [
       "tensor([[True, True, True, True, True, True, True, True, True, True, True, True,\n",
       "         True, True, True, True, True, True, True, True],\n",
       "        [True, True, True, True, True, True, True, True, True, True, True, True,\n",
       "         True, True, True, True, True, True, True, True],\n",
       "        [True, True, True, True, True, True, True, True, True, True, True, True,\n",
       "         True, True, True, True, True, True, True, True],\n",
       "        [True, True, True, True, True, True, True, True, True, True, True, True,\n",
       "         True, True, True, True, True, True, True, True],\n",
       "        [True, True, True, True, True, True, True, True, True, True, True, True,\n",
       "         True, True, True, True, True, True, True, True]])"
      ]
     },
     "execution_count": 120,
     "metadata": {},
     "output_type": "execute_result"
    }
   ],
   "source": [
    "output[:,-1:,:].reshape(5, 20) == hn.reshape(5, 20)"
   ]
  },
  {
   "cell_type": "code",
   "execution_count": 7,
   "metadata": {},
   "outputs": [],
   "source": [
    "# data, train_slice, valid_slice, test_slice, scaler, pred_lens, n_covariate_cols = datautils.load_forecast_csv(\"ETTh2\")\n",
    "# train_data = data[:, train_slice]\n",
    "        \n",
    "# # Train a TS2Vec model\n",
    "# model = TS2Vec(\n",
    "#     input_dims=1,\n",
    "#     device=0,\n",
    "#     output_dims=320\n",
    "# )\n",
    "# loss_log = model.fit(\n",
    "#     train_data,\n",
    "#     verbose=True\n",
    "# )\n",
    "\n",
    "# # Compute timestamp-level representations for test set\n",
    "# test_repr = model.encode(test_data)  # n_instances x n_timestamps x output_dims\n",
    "\n",
    "# # Compute instance-level representations for test set\n",
    "# test_repr = model.encode(test_data, encoding_window='full_series')  # n_instances x output_dims\n",
    "\n",
    "# # Sliding inference for test set\n",
    "# test_repr = model.encode(\n",
    "#     test_data,\n",
    "#     casual=True,\n",
    "#     sliding_length=1,\n",
    "#     sliding_padding=50\n",
    "# )  # n_instances x n_timestamps x output_dims\n",
    "# # (The timestamp t's representation vector is computed using the observations located in [t-50, t])"
   ]
  },
  {
   "cell_type": "code",
   "execution_count": null,
   "metadata": {},
   "outputs": [],
   "source": []
  }
 ],
 "metadata": {
  "kernelspec": {
   "display_name": "Python 3.7.10 64-bit",
   "language": "python",
   "name": "python3"
  },
  "language_info": {
   "codemirror_mode": {
    "name": "ipython",
    "version": 3
   },
   "file_extension": ".py",
   "mimetype": "text/x-python",
   "name": "python",
   "nbconvert_exporter": "python",
   "pygments_lexer": "ipython3",
   "version": "3.7.10"
  },
  "orig_nbformat": 4,
  "vscode": {
   "interpreter": {
    "hash": "31f2aee4e71d21fbe5cf8b01ff0e069b9275f58929596ceb00d14d90e3e16cd6"
   }
  }
 },
 "nbformat": 4,
 "nbformat_minor": 2
}
